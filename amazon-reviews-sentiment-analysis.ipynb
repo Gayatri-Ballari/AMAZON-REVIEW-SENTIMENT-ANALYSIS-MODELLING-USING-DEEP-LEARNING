{
 "cells": [
  {
   "cell_type": "markdown",
   "metadata": {
    "id": "0bNtqWkjJxi8"
   },
   "source": [
    "### Importing Libraries"
   ]
  },
  {
   "cell_type": "code",
   "execution_count": null,
   "metadata": {
    "colab": {
     "base_uri": "https://localhost:8080/"
    },
    "executionInfo": {
     "elapsed": 22371,
     "status": "ok",
     "timestamp": 1658498755136,
     "user": {
      "displayName": "pavitra m pavitra",
      "userId": "17187811436046255843"
     },
     "user_tz": -330
    },
    "id": "WsFb_GwZNDkX",
    "outputId": "af3dcee8-78f8-4df5-9ca4-9b814469e4af"
   },
   "outputs": [
    {
     "name": "stdout",
     "output_type": "stream",
     "text": [
      "Mounted at /content/drive\n"
     ]
    }
   ],
   "source": []
  },
  {
   "cell_type": "code",
   "execution_count": 1,
   "metadata": {
    "colab": {
     "base_uri": "https://localhost:8080/"
    },
    "executionInfo": {
     "elapsed": 6457,
     "status": "ok",
     "timestamp": 1658499043098,
     "user": {
      "displayName": "pavitra m pavitra",
      "userId": "17187811436046255843"
     },
     "user_tz": -330
    },
    "id": "_Vy1Z2yIJxi9",
    "outputId": "aae12d25-e568-4598-b3b6-bc3bad98a2cc"
   },
   "outputs": [
    {
     "name": "stderr",
     "output_type": "stream",
     "text": [
      "Matplotlib is building the font cache; this may take a moment.\n"
     ]
    },
    {
     "ename": "ImportError",
     "evalue": "cannot import name 'pad_sequences' from 'keras.preprocessing.sequence' (C:\\Users\\gayat\\anaconda3\\lib\\site-packages\\keras\\preprocessing\\sequence.py)",
     "output_type": "error",
     "traceback": [
      "\u001b[1;31m---------------------------------------------------------------------------\u001b[0m",
      "\u001b[1;31mImportError\u001b[0m                               Traceback (most recent call last)",
      "Input \u001b[1;32mIn [1]\u001b[0m, in \u001b[0;36m<cell line: 10>\u001b[1;34m()\u001b[0m\n\u001b[0;32m      8\u001b[0m \u001b[38;5;28;01mimport\u001b[39;00m \u001b[38;5;21;01mre\u001b[39;00m\n\u001b[0;32m      9\u001b[0m \u001b[38;5;28;01mfrom\u001b[39;00m \u001b[38;5;21;01mkeras\u001b[39;00m\u001b[38;5;21;01m.\u001b[39;00m\u001b[38;5;21;01mpreprocessing\u001b[39;00m\u001b[38;5;21;01m.\u001b[39;00m\u001b[38;5;21;01mtext\u001b[39;00m \u001b[38;5;28;01mimport\u001b[39;00m Tokenizer\n\u001b[1;32m---> 10\u001b[0m \u001b[38;5;28;01mfrom\u001b[39;00m \u001b[38;5;21;01mkeras\u001b[39;00m\u001b[38;5;21;01m.\u001b[39;00m\u001b[38;5;21;01mpreprocessing\u001b[39;00m\u001b[38;5;21;01m.\u001b[39;00m\u001b[38;5;21;01msequence\u001b[39;00m \u001b[38;5;28;01mimport\u001b[39;00m pad_sequences\n\u001b[0;32m     11\u001b[0m \u001b[38;5;28;01mfrom\u001b[39;00m \u001b[38;5;21;01mkeras\u001b[39;00m\u001b[38;5;21;01m.\u001b[39;00m\u001b[38;5;21;01mmodels\u001b[39;00m \u001b[38;5;28;01mimport\u001b[39;00m Sequential\n\u001b[0;32m     12\u001b[0m \u001b[38;5;28;01mfrom\u001b[39;00m \u001b[38;5;21;01mkeras\u001b[39;00m\u001b[38;5;21;01m.\u001b[39;00m\u001b[38;5;21;01mlayers\u001b[39;00m \u001b[38;5;28;01mimport\u001b[39;00m Dense, Embedding, LSTM, SpatialDropout1D\n",
      "\u001b[1;31mImportError\u001b[0m: cannot import name 'pad_sequences' from 'keras.preprocessing.sequence' (C:\\Users\\gayat\\anaconda3\\lib\\site-packages\\keras\\preprocessing\\sequence.py)"
     ]
    }
   ],
   "source": [
    "import numpy as np \n",
    "import pandas as pd\n",
    "import os\n",
    "import seaborn as sns\n",
    "import matplotlib.pyplot as plt\n",
    "plt.style.use('ggplot')\n",
    "from tqdm import tqdm\n",
    "import re\n",
    "from keras.preprocessing.text import Tokenizer\n",
    "from keras.preprocessing.sequence import pad_sequences\n",
    "from keras.models import Sequential\n",
    "from keras.layers import Dense, Embedding, LSTM, SpatialDropout1D\n",
    "from sklearn.model_selection import train_test_split\n",
    "from nltk import word_tokenize\n",
    "import gensim\n",
    "from collections import Counter\n",
    "from nltk.corpus import stopwords\n",
    "from nltk.stem import WordNetLemmatizer\n",
    "import matplotlib.colors as mcolors\n",
    "from sklearn.manifold import TSNE\n",
    "from gensim.models import word2vec\n",
    "import nltk\n",
    "from keras.models import Model\n",
    "from keras.layers import Input, Dense, Embedding, SpatialDropout1D, add, concatenate\n",
    "from keras.layers import LSTM, Bidirectional, GlobalMaxPooling1D, GlobalAveragePooling1D\n",
    "from keras.callbacks import Callback, ModelCheckpoint\n",
    "from keras.preprocessing import text, sequence\n",
    "!pip install matplotlib-venn\n",
    "!apt-get -qq install -y libfluidsynth1\n",
    "from sklearn.model_selection import train_test_split\n",
    "from sklearn.metrics import classification_report\n",
    "from tqdm import tqdm\n",
    "import json"
   ]
  },
  {
   "cell_type": "markdown",
   "metadata": {
    "id": "cMkfHjCuJxjB"
   },
   "source": [
    "## Loading the dataset"
   ]
  },
  {
   "cell_type": "code",
   "execution_count": 2,
   "metadata": {
    "colab": {
     "base_uri": "https://localhost:8080/",
     "height": 354
    },
    "executionInfo": {
     "elapsed": 7782,
     "status": "ok",
     "timestamp": 1658499061511,
     "user": {
      "displayName": "pavitra m pavitra",
      "userId": "17187811436046255843"
     },
     "user_tz": -330
    },
    "id": "es5Ch8HAJxjB",
    "outputId": "be69570f-d929-4d34-d704-787bff6119cf"
   },
   "outputs": [
    {
     "ename": "FileNotFoundError",
     "evalue": "[Errno 2] No such file or directory: 'C:/Users/gayat/OneDrive/Desktop/print/emails'",
     "output_type": "error",
     "traceback": [
      "\u001b[1;31m---------------------------------------------------------------------------\u001b[0m",
      "\u001b[1;31mFileNotFoundError\u001b[0m                         Traceback (most recent call last)",
      "Input \u001b[1;32mIn [2]\u001b[0m, in \u001b[0;36m<cell line: 1>\u001b[1;34m()\u001b[0m\n\u001b[1;32m----> 1\u001b[0m df \u001b[38;5;241m=\u001b[39m \u001b[43mpd\u001b[49m\u001b[38;5;241;43m.\u001b[39;49m\u001b[43mread_csv\u001b[49m\u001b[43m(\u001b[49m\u001b[38;5;124;43m'\u001b[39;49m\u001b[38;5;124;43mC:/Users/gayat/OneDrive/Desktop/print/emails\u001b[39;49m\u001b[38;5;124;43m'\u001b[39;49m\u001b[43m)\u001b[49m\n\u001b[0;32m      3\u001b[0m \u001b[38;5;28mprint\u001b[39m(df\u001b[38;5;241m.\u001b[39mshape)\n\u001b[0;32m      4\u001b[0m df\u001b[38;5;241m.\u001b[39mhead()\n",
      "File \u001b[1;32m~\\anaconda3\\lib\\site-packages\\pandas\\util\\_decorators.py:311\u001b[0m, in \u001b[0;36mdeprecate_nonkeyword_arguments.<locals>.decorate.<locals>.wrapper\u001b[1;34m(*args, **kwargs)\u001b[0m\n\u001b[0;32m    305\u001b[0m \u001b[38;5;28;01mif\u001b[39;00m \u001b[38;5;28mlen\u001b[39m(args) \u001b[38;5;241m>\u001b[39m num_allow_args:\n\u001b[0;32m    306\u001b[0m     warnings\u001b[38;5;241m.\u001b[39mwarn(\n\u001b[0;32m    307\u001b[0m         msg\u001b[38;5;241m.\u001b[39mformat(arguments\u001b[38;5;241m=\u001b[39marguments),\n\u001b[0;32m    308\u001b[0m         \u001b[38;5;167;01mFutureWarning\u001b[39;00m,\n\u001b[0;32m    309\u001b[0m         stacklevel\u001b[38;5;241m=\u001b[39mstacklevel,\n\u001b[0;32m    310\u001b[0m     )\n\u001b[1;32m--> 311\u001b[0m \u001b[38;5;28;01mreturn\u001b[39;00m func(\u001b[38;5;241m*\u001b[39margs, \u001b[38;5;241m*\u001b[39m\u001b[38;5;241m*\u001b[39mkwargs)\n",
      "File \u001b[1;32m~\\anaconda3\\lib\\site-packages\\pandas\\io\\parsers\\readers.py:680\u001b[0m, in \u001b[0;36mread_csv\u001b[1;34m(filepath_or_buffer, sep, delimiter, header, names, index_col, usecols, squeeze, prefix, mangle_dupe_cols, dtype, engine, converters, true_values, false_values, skipinitialspace, skiprows, skipfooter, nrows, na_values, keep_default_na, na_filter, verbose, skip_blank_lines, parse_dates, infer_datetime_format, keep_date_col, date_parser, dayfirst, cache_dates, iterator, chunksize, compression, thousands, decimal, lineterminator, quotechar, quoting, doublequote, escapechar, comment, encoding, encoding_errors, dialect, error_bad_lines, warn_bad_lines, on_bad_lines, delim_whitespace, low_memory, memory_map, float_precision, storage_options)\u001b[0m\n\u001b[0;32m    665\u001b[0m kwds_defaults \u001b[38;5;241m=\u001b[39m _refine_defaults_read(\n\u001b[0;32m    666\u001b[0m     dialect,\n\u001b[0;32m    667\u001b[0m     delimiter,\n\u001b[1;32m   (...)\u001b[0m\n\u001b[0;32m    676\u001b[0m     defaults\u001b[38;5;241m=\u001b[39m{\u001b[38;5;124m\"\u001b[39m\u001b[38;5;124mdelimiter\u001b[39m\u001b[38;5;124m\"\u001b[39m: \u001b[38;5;124m\"\u001b[39m\u001b[38;5;124m,\u001b[39m\u001b[38;5;124m\"\u001b[39m},\n\u001b[0;32m    677\u001b[0m )\n\u001b[0;32m    678\u001b[0m kwds\u001b[38;5;241m.\u001b[39mupdate(kwds_defaults)\n\u001b[1;32m--> 680\u001b[0m \u001b[38;5;28;01mreturn\u001b[39;00m \u001b[43m_read\u001b[49m\u001b[43m(\u001b[49m\u001b[43mfilepath_or_buffer\u001b[49m\u001b[43m,\u001b[49m\u001b[43m \u001b[49m\u001b[43mkwds\u001b[49m\u001b[43m)\u001b[49m\n",
      "File \u001b[1;32m~\\anaconda3\\lib\\site-packages\\pandas\\io\\parsers\\readers.py:575\u001b[0m, in \u001b[0;36m_read\u001b[1;34m(filepath_or_buffer, kwds)\u001b[0m\n\u001b[0;32m    572\u001b[0m _validate_names(kwds\u001b[38;5;241m.\u001b[39mget(\u001b[38;5;124m\"\u001b[39m\u001b[38;5;124mnames\u001b[39m\u001b[38;5;124m\"\u001b[39m, \u001b[38;5;28;01mNone\u001b[39;00m))\n\u001b[0;32m    574\u001b[0m \u001b[38;5;66;03m# Create the parser.\u001b[39;00m\n\u001b[1;32m--> 575\u001b[0m parser \u001b[38;5;241m=\u001b[39m TextFileReader(filepath_or_buffer, \u001b[38;5;241m*\u001b[39m\u001b[38;5;241m*\u001b[39mkwds)\n\u001b[0;32m    577\u001b[0m \u001b[38;5;28;01mif\u001b[39;00m chunksize \u001b[38;5;129;01mor\u001b[39;00m iterator:\n\u001b[0;32m    578\u001b[0m     \u001b[38;5;28;01mreturn\u001b[39;00m parser\n",
      "File \u001b[1;32m~\\anaconda3\\lib\\site-packages\\pandas\\io\\parsers\\readers.py:933\u001b[0m, in \u001b[0;36mTextFileReader.__init__\u001b[1;34m(self, f, engine, **kwds)\u001b[0m\n\u001b[0;32m    930\u001b[0m     \u001b[38;5;28mself\u001b[39m\u001b[38;5;241m.\u001b[39moptions[\u001b[38;5;124m\"\u001b[39m\u001b[38;5;124mhas_index_names\u001b[39m\u001b[38;5;124m\"\u001b[39m] \u001b[38;5;241m=\u001b[39m kwds[\u001b[38;5;124m\"\u001b[39m\u001b[38;5;124mhas_index_names\u001b[39m\u001b[38;5;124m\"\u001b[39m]\n\u001b[0;32m    932\u001b[0m \u001b[38;5;28mself\u001b[39m\u001b[38;5;241m.\u001b[39mhandles: IOHandles \u001b[38;5;241m|\u001b[39m \u001b[38;5;28;01mNone\u001b[39;00m \u001b[38;5;241m=\u001b[39m \u001b[38;5;28;01mNone\u001b[39;00m\n\u001b[1;32m--> 933\u001b[0m \u001b[38;5;28mself\u001b[39m\u001b[38;5;241m.\u001b[39m_engine \u001b[38;5;241m=\u001b[39m \u001b[38;5;28;43mself\u001b[39;49m\u001b[38;5;241;43m.\u001b[39;49m\u001b[43m_make_engine\u001b[49m\u001b[43m(\u001b[49m\u001b[43mf\u001b[49m\u001b[43m,\u001b[49m\u001b[43m \u001b[49m\u001b[38;5;28;43mself\u001b[39;49m\u001b[38;5;241;43m.\u001b[39;49m\u001b[43mengine\u001b[49m\u001b[43m)\u001b[49m\n",
      "File \u001b[1;32m~\\anaconda3\\lib\\site-packages\\pandas\\io\\parsers\\readers.py:1217\u001b[0m, in \u001b[0;36mTextFileReader._make_engine\u001b[1;34m(self, f, engine)\u001b[0m\n\u001b[0;32m   1213\u001b[0m     mode \u001b[38;5;241m=\u001b[39m \u001b[38;5;124m\"\u001b[39m\u001b[38;5;124mrb\u001b[39m\u001b[38;5;124m\"\u001b[39m\n\u001b[0;32m   1214\u001b[0m \u001b[38;5;66;03m# error: No overload variant of \"get_handle\" matches argument types\u001b[39;00m\n\u001b[0;32m   1215\u001b[0m \u001b[38;5;66;03m# \"Union[str, PathLike[str], ReadCsvBuffer[bytes], ReadCsvBuffer[str]]\"\u001b[39;00m\n\u001b[0;32m   1216\u001b[0m \u001b[38;5;66;03m# , \"str\", \"bool\", \"Any\", \"Any\", \"Any\", \"Any\", \"Any\"\u001b[39;00m\n\u001b[1;32m-> 1217\u001b[0m \u001b[38;5;28mself\u001b[39m\u001b[38;5;241m.\u001b[39mhandles \u001b[38;5;241m=\u001b[39m \u001b[43mget_handle\u001b[49m\u001b[43m(\u001b[49m\u001b[43m  \u001b[49m\u001b[38;5;66;43;03m# type: ignore[call-overload]\u001b[39;49;00m\n\u001b[0;32m   1218\u001b[0m \u001b[43m    \u001b[49m\u001b[43mf\u001b[49m\u001b[43m,\u001b[49m\n\u001b[0;32m   1219\u001b[0m \u001b[43m    \u001b[49m\u001b[43mmode\u001b[49m\u001b[43m,\u001b[49m\n\u001b[0;32m   1220\u001b[0m \u001b[43m    \u001b[49m\u001b[43mencoding\u001b[49m\u001b[38;5;241;43m=\u001b[39;49m\u001b[38;5;28;43mself\u001b[39;49m\u001b[38;5;241;43m.\u001b[39;49m\u001b[43moptions\u001b[49m\u001b[38;5;241;43m.\u001b[39;49m\u001b[43mget\u001b[49m\u001b[43m(\u001b[49m\u001b[38;5;124;43m\"\u001b[39;49m\u001b[38;5;124;43mencoding\u001b[39;49m\u001b[38;5;124;43m\"\u001b[39;49m\u001b[43m,\u001b[49m\u001b[43m \u001b[49m\u001b[38;5;28;43;01mNone\u001b[39;49;00m\u001b[43m)\u001b[49m\u001b[43m,\u001b[49m\n\u001b[0;32m   1221\u001b[0m \u001b[43m    \u001b[49m\u001b[43mcompression\u001b[49m\u001b[38;5;241;43m=\u001b[39;49m\u001b[38;5;28;43mself\u001b[39;49m\u001b[38;5;241;43m.\u001b[39;49m\u001b[43moptions\u001b[49m\u001b[38;5;241;43m.\u001b[39;49m\u001b[43mget\u001b[49m\u001b[43m(\u001b[49m\u001b[38;5;124;43m\"\u001b[39;49m\u001b[38;5;124;43mcompression\u001b[39;49m\u001b[38;5;124;43m\"\u001b[39;49m\u001b[43m,\u001b[49m\u001b[43m \u001b[49m\u001b[38;5;28;43;01mNone\u001b[39;49;00m\u001b[43m)\u001b[49m\u001b[43m,\u001b[49m\n\u001b[0;32m   1222\u001b[0m \u001b[43m    \u001b[49m\u001b[43mmemory_map\u001b[49m\u001b[38;5;241;43m=\u001b[39;49m\u001b[38;5;28;43mself\u001b[39;49m\u001b[38;5;241;43m.\u001b[39;49m\u001b[43moptions\u001b[49m\u001b[38;5;241;43m.\u001b[39;49m\u001b[43mget\u001b[49m\u001b[43m(\u001b[49m\u001b[38;5;124;43m\"\u001b[39;49m\u001b[38;5;124;43mmemory_map\u001b[39;49m\u001b[38;5;124;43m\"\u001b[39;49m\u001b[43m,\u001b[49m\u001b[43m \u001b[49m\u001b[38;5;28;43;01mFalse\u001b[39;49;00m\u001b[43m)\u001b[49m\u001b[43m,\u001b[49m\n\u001b[0;32m   1223\u001b[0m \u001b[43m    \u001b[49m\u001b[43mis_text\u001b[49m\u001b[38;5;241;43m=\u001b[39;49m\u001b[43mis_text\u001b[49m\u001b[43m,\u001b[49m\n\u001b[0;32m   1224\u001b[0m \u001b[43m    \u001b[49m\u001b[43merrors\u001b[49m\u001b[38;5;241;43m=\u001b[39;49m\u001b[38;5;28;43mself\u001b[39;49m\u001b[38;5;241;43m.\u001b[39;49m\u001b[43moptions\u001b[49m\u001b[38;5;241;43m.\u001b[39;49m\u001b[43mget\u001b[49m\u001b[43m(\u001b[49m\u001b[38;5;124;43m\"\u001b[39;49m\u001b[38;5;124;43mencoding_errors\u001b[39;49m\u001b[38;5;124;43m\"\u001b[39;49m\u001b[43m,\u001b[49m\u001b[43m \u001b[49m\u001b[38;5;124;43m\"\u001b[39;49m\u001b[38;5;124;43mstrict\u001b[39;49m\u001b[38;5;124;43m\"\u001b[39;49m\u001b[43m)\u001b[49m\u001b[43m,\u001b[49m\n\u001b[0;32m   1225\u001b[0m \u001b[43m    \u001b[49m\u001b[43mstorage_options\u001b[49m\u001b[38;5;241;43m=\u001b[39;49m\u001b[38;5;28;43mself\u001b[39;49m\u001b[38;5;241;43m.\u001b[39;49m\u001b[43moptions\u001b[49m\u001b[38;5;241;43m.\u001b[39;49m\u001b[43mget\u001b[49m\u001b[43m(\u001b[49m\u001b[38;5;124;43m\"\u001b[39;49m\u001b[38;5;124;43mstorage_options\u001b[39;49m\u001b[38;5;124;43m\"\u001b[39;49m\u001b[43m,\u001b[49m\u001b[43m \u001b[49m\u001b[38;5;28;43;01mNone\u001b[39;49;00m\u001b[43m)\u001b[49m\u001b[43m,\u001b[49m\n\u001b[0;32m   1226\u001b[0m \u001b[43m\u001b[49m\u001b[43m)\u001b[49m\n\u001b[0;32m   1227\u001b[0m \u001b[38;5;28;01massert\u001b[39;00m \u001b[38;5;28mself\u001b[39m\u001b[38;5;241m.\u001b[39mhandles \u001b[38;5;129;01mis\u001b[39;00m \u001b[38;5;129;01mnot\u001b[39;00m \u001b[38;5;28;01mNone\u001b[39;00m\n\u001b[0;32m   1228\u001b[0m f \u001b[38;5;241m=\u001b[39m \u001b[38;5;28mself\u001b[39m\u001b[38;5;241m.\u001b[39mhandles\u001b[38;5;241m.\u001b[39mhandle\n",
      "File \u001b[1;32m~\\anaconda3\\lib\\site-packages\\pandas\\io\\common.py:789\u001b[0m, in \u001b[0;36mget_handle\u001b[1;34m(path_or_buf, mode, encoding, compression, memory_map, is_text, errors, storage_options)\u001b[0m\n\u001b[0;32m    784\u001b[0m \u001b[38;5;28;01melif\u001b[39;00m \u001b[38;5;28misinstance\u001b[39m(handle, \u001b[38;5;28mstr\u001b[39m):\n\u001b[0;32m    785\u001b[0m     \u001b[38;5;66;03m# Check whether the filename is to be opened in binary mode.\u001b[39;00m\n\u001b[0;32m    786\u001b[0m     \u001b[38;5;66;03m# Binary mode does not support 'encoding' and 'newline'.\u001b[39;00m\n\u001b[0;32m    787\u001b[0m     \u001b[38;5;28;01mif\u001b[39;00m ioargs\u001b[38;5;241m.\u001b[39mencoding \u001b[38;5;129;01mand\u001b[39;00m \u001b[38;5;124m\"\u001b[39m\u001b[38;5;124mb\u001b[39m\u001b[38;5;124m\"\u001b[39m \u001b[38;5;129;01mnot\u001b[39;00m \u001b[38;5;129;01min\u001b[39;00m ioargs\u001b[38;5;241m.\u001b[39mmode:\n\u001b[0;32m    788\u001b[0m         \u001b[38;5;66;03m# Encoding\u001b[39;00m\n\u001b[1;32m--> 789\u001b[0m         handle \u001b[38;5;241m=\u001b[39m \u001b[38;5;28;43mopen\u001b[39;49m\u001b[43m(\u001b[49m\n\u001b[0;32m    790\u001b[0m \u001b[43m            \u001b[49m\u001b[43mhandle\u001b[49m\u001b[43m,\u001b[49m\n\u001b[0;32m    791\u001b[0m \u001b[43m            \u001b[49m\u001b[43mioargs\u001b[49m\u001b[38;5;241;43m.\u001b[39;49m\u001b[43mmode\u001b[49m\u001b[43m,\u001b[49m\n\u001b[0;32m    792\u001b[0m \u001b[43m            \u001b[49m\u001b[43mencoding\u001b[49m\u001b[38;5;241;43m=\u001b[39;49m\u001b[43mioargs\u001b[49m\u001b[38;5;241;43m.\u001b[39;49m\u001b[43mencoding\u001b[49m\u001b[43m,\u001b[49m\n\u001b[0;32m    793\u001b[0m \u001b[43m            \u001b[49m\u001b[43merrors\u001b[49m\u001b[38;5;241;43m=\u001b[39;49m\u001b[43merrors\u001b[49m\u001b[43m,\u001b[49m\n\u001b[0;32m    794\u001b[0m \u001b[43m            \u001b[49m\u001b[43mnewline\u001b[49m\u001b[38;5;241;43m=\u001b[39;49m\u001b[38;5;124;43m\"\u001b[39;49m\u001b[38;5;124;43m\"\u001b[39;49m\u001b[43m,\u001b[49m\n\u001b[0;32m    795\u001b[0m \u001b[43m        \u001b[49m\u001b[43m)\u001b[49m\n\u001b[0;32m    796\u001b[0m     \u001b[38;5;28;01melse\u001b[39;00m:\n\u001b[0;32m    797\u001b[0m         \u001b[38;5;66;03m# Binary mode\u001b[39;00m\n\u001b[0;32m    798\u001b[0m         handle \u001b[38;5;241m=\u001b[39m \u001b[38;5;28mopen\u001b[39m(handle, ioargs\u001b[38;5;241m.\u001b[39mmode)\n",
      "\u001b[1;31mFileNotFoundError\u001b[0m: [Errno 2] No such file or directory: 'C:/Users/gayat/OneDrive/Desktop/print/emails'"
     ]
    }
   ],
   "source": [
    "df = pd.read_csv('C:/Users/gayat/OneDrive/Desktop/print/emails')\n",
    "\n",
    "print(df.shape)\n",
    "df.head()"
   ]
  },
  {
   "cell_type": "code",
   "execution_count": null,
   "metadata": {
    "colab": {
     "base_uri": "https://localhost:8080/"
    },
    "executionInfo": {
     "elapsed": 689,
     "status": "ok",
     "timestamp": 1658499066169,
     "user": {
      "displayName": "pavitra m pavitra",
      "userId": "17187811436046255843"
     },
     "user_tz": -330
    },
    "id": "bhiKqYC_JxjD",
    "outputId": "8be2d8d6-ce49-4c31-f7d1-5adf94127bf7"
   },
   "outputs": [
    {
     "data": {
      "text/plain": [
       "(568454, 10)"
      ]
     },
     "execution_count": 11,
     "metadata": {},
     "output_type": "execute_result"
    }
   ],
   "source": [
    "df.shape"
   ]
  },
  {
   "cell_type": "code",
   "execution_count": null,
   "metadata": {
    "colab": {
     "base_uri": "https://localhost:8080/"
    },
    "executionInfo": {
     "elapsed": 652,
     "status": "ok",
     "timestamp": 1658499069378,
     "user": {
      "displayName": "pavitra m pavitra",
      "userId": "17187811436046255843"
     },
     "user_tz": -330
    },
    "id": "_rPNrFRAJxjE",
    "outputId": "c8e7e53e-9ad2-40fc-9571-f9450a860d68"
   },
   "outputs": [
    {
     "data": {
      "text/plain": [
       "Id                         int64\n",
       "ProductId                 object\n",
       "UserId                    object\n",
       "ProfileName               object\n",
       "HelpfulnessNumerator       int64\n",
       "HelpfulnessDenominator     int64\n",
       "Score                      int64\n",
       "Time                       int64\n",
       "Summary                   object\n",
       "Text                      object\n",
       "dtype: object"
      ]
     },
     "execution_count": 12,
     "metadata": {},
     "output_type": "execute_result"
    }
   ],
   "source": [
    "df.dtypes"
   ]
  },
  {
   "cell_type": "code",
   "execution_count": null,
   "metadata": {
    "colab": {
     "base_uri": "https://localhost:8080/"
    },
    "executionInfo": {
     "elapsed": 669,
     "status": "ok",
     "timestamp": 1658499072925,
     "user": {
      "displayName": "pavitra m pavitra",
      "userId": "17187811436046255843"
     },
     "user_tz": -330
    },
    "id": "ka_ZzkMZJxjF",
    "outputId": "6a8ee7b4-24cf-46ac-de51-ae6cc23cc25b"
   },
   "outputs": [
    {
     "name": "stdout",
     "output_type": "stream",
     "text": [
      "<class 'pandas.core.frame.DataFrame'>\n",
      "RangeIndex: 568454 entries, 0 to 568453\n",
      "Data columns (total 10 columns):\n",
      " #   Column                  Non-Null Count   Dtype \n",
      "---  ------                  --------------   ----- \n",
      " 0   Id                      568454 non-null  int64 \n",
      " 1   ProductId               568454 non-null  object\n",
      " 2   UserId                  568454 non-null  object\n",
      " 3   ProfileName             568438 non-null  object\n",
      " 4   HelpfulnessNumerator    568454 non-null  int64 \n",
      " 5   HelpfulnessDenominator  568454 non-null  int64 \n",
      " 6   Score                   568454 non-null  int64 \n",
      " 7   Time                    568454 non-null  int64 \n",
      " 8   Summary                 568427 non-null  object\n",
      " 9   Text                    568454 non-null  object\n",
      "dtypes: int64(5), object(5)\n",
      "memory usage: 43.4+ MB\n"
     ]
    }
   ],
   "source": [
    "df.info()"
   ]
  },
  {
   "cell_type": "code",
   "execution_count": null,
   "metadata": {
    "colab": {
     "base_uri": "https://localhost:8080/",
     "height": 300
    },
    "executionInfo": {
     "elapsed": 682,
     "status": "ok",
     "timestamp": 1658499076297,
     "user": {
      "displayName": "pavitra m pavitra",
      "userId": "17187811436046255843"
     },
     "user_tz": -330
    },
    "id": "AQNmyXsQJxjG",
    "outputId": "4e63f05c-9626-4fc5-af98-7b56e7e3f09c"
   },
   "outputs": [
    {
     "data": {
      "text/html": [
       "\n",
       "  <div id=\"df-c8d5458e-348f-4e8d-a6e7-d638f6bd75ec\">\n",
       "    <div class=\"colab-df-container\">\n",
       "      <div>\n",
       "<style scoped>\n",
       "    .dataframe tbody tr th:only-of-type {\n",
       "        vertical-align: middle;\n",
       "    }\n",
       "\n",
       "    .dataframe tbody tr th {\n",
       "        vertical-align: top;\n",
       "    }\n",
       "\n",
       "    .dataframe thead th {\n",
       "        text-align: right;\n",
       "    }\n",
       "</style>\n",
       "<table border=\"1\" class=\"dataframe\">\n",
       "  <thead>\n",
       "    <tr style=\"text-align: right;\">\n",
       "      <th></th>\n",
       "      <th>Id</th>\n",
       "      <th>HelpfulnessNumerator</th>\n",
       "      <th>HelpfulnessDenominator</th>\n",
       "      <th>Score</th>\n",
       "      <th>Time</th>\n",
       "    </tr>\n",
       "  </thead>\n",
       "  <tbody>\n",
       "    <tr>\n",
       "      <th>count</th>\n",
       "      <td>568454.000000</td>\n",
       "      <td>568454.000000</td>\n",
       "      <td>568454.00000</td>\n",
       "      <td>568454.000000</td>\n",
       "      <td>5.684540e+05</td>\n",
       "    </tr>\n",
       "    <tr>\n",
       "      <th>mean</th>\n",
       "      <td>284227.500000</td>\n",
       "      <td>1.743817</td>\n",
       "      <td>2.22881</td>\n",
       "      <td>4.183199</td>\n",
       "      <td>1.296257e+09</td>\n",
       "    </tr>\n",
       "    <tr>\n",
       "      <th>std</th>\n",
       "      <td>164098.679298</td>\n",
       "      <td>7.636513</td>\n",
       "      <td>8.28974</td>\n",
       "      <td>1.310436</td>\n",
       "      <td>4.804331e+07</td>\n",
       "    </tr>\n",
       "    <tr>\n",
       "      <th>min</th>\n",
       "      <td>1.000000</td>\n",
       "      <td>0.000000</td>\n",
       "      <td>0.00000</td>\n",
       "      <td>1.000000</td>\n",
       "      <td>9.393408e+08</td>\n",
       "    </tr>\n",
       "    <tr>\n",
       "      <th>25%</th>\n",
       "      <td>142114.250000</td>\n",
       "      <td>0.000000</td>\n",
       "      <td>0.00000</td>\n",
       "      <td>4.000000</td>\n",
       "      <td>1.271290e+09</td>\n",
       "    </tr>\n",
       "    <tr>\n",
       "      <th>50%</th>\n",
       "      <td>284227.500000</td>\n",
       "      <td>0.000000</td>\n",
       "      <td>1.00000</td>\n",
       "      <td>5.000000</td>\n",
       "      <td>1.311120e+09</td>\n",
       "    </tr>\n",
       "    <tr>\n",
       "      <th>75%</th>\n",
       "      <td>426340.750000</td>\n",
       "      <td>2.000000</td>\n",
       "      <td>2.00000</td>\n",
       "      <td>5.000000</td>\n",
       "      <td>1.332720e+09</td>\n",
       "    </tr>\n",
       "    <tr>\n",
       "      <th>max</th>\n",
       "      <td>568454.000000</td>\n",
       "      <td>866.000000</td>\n",
       "      <td>923.00000</td>\n",
       "      <td>5.000000</td>\n",
       "      <td>1.351210e+09</td>\n",
       "    </tr>\n",
       "  </tbody>\n",
       "</table>\n",
       "</div>\n",
       "      <button class=\"colab-df-convert\" onclick=\"convertToInteractive('df-c8d5458e-348f-4e8d-a6e7-d638f6bd75ec')\"\n",
       "              title=\"Convert this dataframe to an interactive table.\"\n",
       "              style=\"display:none;\">\n",
       "        \n",
       "  <svg xmlns=\"http://www.w3.org/2000/svg\" height=\"24px\"viewBox=\"0 0 24 24\"\n",
       "       width=\"24px\">\n",
       "    <path d=\"M0 0h24v24H0V0z\" fill=\"none\"/>\n",
       "    <path d=\"M18.56 5.44l.94 2.06.94-2.06 2.06-.94-2.06-.94-.94-2.06-.94 2.06-2.06.94zm-11 1L8.5 8.5l.94-2.06 2.06-.94-2.06-.94L8.5 2.5l-.94 2.06-2.06.94zm10 10l.94 2.06.94-2.06 2.06-.94-2.06-.94-.94-2.06-.94 2.06-2.06.94z\"/><path d=\"M17.41 7.96l-1.37-1.37c-.4-.4-.92-.59-1.43-.59-.52 0-1.04.2-1.43.59L10.3 9.45l-7.72 7.72c-.78.78-.78 2.05 0 2.83L4 21.41c.39.39.9.59 1.41.59.51 0 1.02-.2 1.41-.59l7.78-7.78 2.81-2.81c.8-.78.8-2.07 0-2.86zM5.41 20L4 18.59l7.72-7.72 1.47 1.35L5.41 20z\"/>\n",
       "  </svg>\n",
       "      </button>\n",
       "      \n",
       "  <style>\n",
       "    .colab-df-container {\n",
       "      display:flex;\n",
       "      flex-wrap:wrap;\n",
       "      gap: 12px;\n",
       "    }\n",
       "\n",
       "    .colab-df-convert {\n",
       "      background-color: #E8F0FE;\n",
       "      border: none;\n",
       "      border-radius: 50%;\n",
       "      cursor: pointer;\n",
       "      display: none;\n",
       "      fill: #1967D2;\n",
       "      height: 32px;\n",
       "      padding: 0 0 0 0;\n",
       "      width: 32px;\n",
       "    }\n",
       "\n",
       "    .colab-df-convert:hover {\n",
       "      background-color: #E2EBFA;\n",
       "      box-shadow: 0px 1px 2px rgba(60, 64, 67, 0.3), 0px 1px 3px 1px rgba(60, 64, 67, 0.15);\n",
       "      fill: #174EA6;\n",
       "    }\n",
       "\n",
       "    [theme=dark] .colab-df-convert {\n",
       "      background-color: #3B4455;\n",
       "      fill: #D2E3FC;\n",
       "    }\n",
       "\n",
       "    [theme=dark] .colab-df-convert:hover {\n",
       "      background-color: #434B5C;\n",
       "      box-shadow: 0px 1px 3px 1px rgba(0, 0, 0, 0.15);\n",
       "      filter: drop-shadow(0px 1px 2px rgba(0, 0, 0, 0.3));\n",
       "      fill: #FFFFFF;\n",
       "    }\n",
       "  </style>\n",
       "\n",
       "      <script>\n",
       "        const buttonEl =\n",
       "          document.querySelector('#df-c8d5458e-348f-4e8d-a6e7-d638f6bd75ec button.colab-df-convert');\n",
       "        buttonEl.style.display =\n",
       "          google.colab.kernel.accessAllowed ? 'block' : 'none';\n",
       "\n",
       "        async function convertToInteractive(key) {\n",
       "          const element = document.querySelector('#df-c8d5458e-348f-4e8d-a6e7-d638f6bd75ec');\n",
       "          const dataTable =\n",
       "            await google.colab.kernel.invokeFunction('convertToInteractive',\n",
       "                                                     [key], {});\n",
       "          if (!dataTable) return;\n",
       "\n",
       "          const docLinkHtml = 'Like what you see? Visit the ' +\n",
       "            '<a target=\"_blank\" href=https://colab.research.google.com/notebooks/data_table.ipynb>data table notebook</a>'\n",
       "            + ' to learn more about interactive tables.';\n",
       "          element.innerHTML = '';\n",
       "          dataTable['output_type'] = 'display_data';\n",
       "          await google.colab.output.renderOutput(dataTable, element);\n",
       "          const docLink = document.createElement('div');\n",
       "          docLink.innerHTML = docLinkHtml;\n",
       "          element.appendChild(docLink);\n",
       "        }\n",
       "      </script>\n",
       "    </div>\n",
       "  </div>\n",
       "  "
      ],
      "text/plain": [
       "                  Id  HelpfulnessNumerator  HelpfulnessDenominator  \\\n",
       "count  568454.000000         568454.000000            568454.00000   \n",
       "mean   284227.500000              1.743817                 2.22881   \n",
       "std    164098.679298              7.636513                 8.28974   \n",
       "min         1.000000              0.000000                 0.00000   \n",
       "25%    142114.250000              0.000000                 0.00000   \n",
       "50%    284227.500000              0.000000                 1.00000   \n",
       "75%    426340.750000              2.000000                 2.00000   \n",
       "max    568454.000000            866.000000               923.00000   \n",
       "\n",
       "               Score          Time  \n",
       "count  568454.000000  5.684540e+05  \n",
       "mean        4.183199  1.296257e+09  \n",
       "std         1.310436  4.804331e+07  \n",
       "min         1.000000  9.393408e+08  \n",
       "25%         4.000000  1.271290e+09  \n",
       "50%         5.000000  1.311120e+09  \n",
       "75%         5.000000  1.332720e+09  \n",
       "max         5.000000  1.351210e+09  "
      ]
     },
     "execution_count": 14,
     "metadata": {},
     "output_type": "execute_result"
    }
   ],
   "source": [
    "df.describe()"
   ]
  },
  {
   "cell_type": "code",
   "execution_count": null,
   "metadata": {
    "id": "idSmK_Y3JxjH"
   },
   "outputs": [],
   "source": [
    "##Removing the Duplicates if any\n",
    "df.duplicated().sum()\n",
    "df.drop_duplicates(inplace=True)"
   ]
  },
  {
   "cell_type": "code",
   "execution_count": null,
   "metadata": {
    "colab": {
     "base_uri": "https://localhost:8080/"
    },
    "executionInfo": {
     "elapsed": 640,
     "status": "ok",
     "timestamp": 1658499086178,
     "user": {
      "displayName": "pavitra m pavitra",
      "userId": "17187811436046255843"
     },
     "user_tz": -330
    },
    "id": "dEvFYfMkJxjI",
    "outputId": "ea8cfa26-98c9-48ea-89c2-795aa3514641"
   },
   "outputs": [
    {
     "data": {
      "text/plain": [
       "Id                         0\n",
       "ProductId                  0\n",
       "UserId                     0\n",
       "ProfileName               16\n",
       "HelpfulnessNumerator       0\n",
       "HelpfulnessDenominator     0\n",
       "Score                      0\n",
       "Time                       0\n",
       "Summary                   27\n",
       "Text                       0\n",
       "dtype: int64"
      ]
     },
     "execution_count": 16,
     "metadata": {},
     "output_type": "execute_result"
    }
   ],
   "source": [
    "#Check for the null values in each column\n",
    "df.isnull().sum()"
   ]
  },
  {
   "cell_type": "code",
   "execution_count": null,
   "metadata": {
    "id": "IVAIe_5wJxjI"
   },
   "outputs": [],
   "source": [
    "##Remove the NaN values from the dataset\n",
    "df.isnull().sum()\n",
    "df.dropna(how='any',inplace=True)"
   ]
  },
  {
   "cell_type": "code",
   "execution_count": null,
   "metadata": {
    "id": "h7Erfo0NJxjJ",
    "outputId": "6aa9fbf6-1d5c-4da8-bc96-303197ba12e4"
   },
   "outputs": [
    {
     "data": {
      "text/html": [
       "<div>\n",
       "<style scoped>\n",
       "    .dataframe tbody tr th:only-of-type {\n",
       "        vertical-align: middle;\n",
       "    }\n",
       "\n",
       "    .dataframe tbody tr th {\n",
       "        vertical-align: top;\n",
       "    }\n",
       "\n",
       "    .dataframe thead th {\n",
       "        text-align: right;\n",
       "    }\n",
       "</style>\n",
       "<table border=\"1\" class=\"dataframe\">\n",
       "  <thead>\n",
       "    <tr style=\"text-align: right;\">\n",
       "      <th></th>\n",
       "      <th>Id</th>\n",
       "      <th>ProductId</th>\n",
       "      <th>UserId</th>\n",
       "      <th>ProfileName</th>\n",
       "      <th>HelpfulnessNumerator</th>\n",
       "      <th>HelpfulnessDenominator</th>\n",
       "      <th>Score</th>\n",
       "      <th>Time</th>\n",
       "      <th>Summary</th>\n",
       "      <th>Text</th>\n",
       "    </tr>\n",
       "  </thead>\n",
       "  <tbody>\n",
       "    <tr>\n",
       "      <th>0</th>\n",
       "      <td>1</td>\n",
       "      <td>B001E4KFG0</td>\n",
       "      <td>A3SGXH7AUHU8GW</td>\n",
       "      <td>delmartian</td>\n",
       "      <td>1</td>\n",
       "      <td>1</td>\n",
       "      <td>5</td>\n",
       "      <td>1303862400</td>\n",
       "      <td>Good Quality Dog Food</td>\n",
       "      <td>I have bought several of the Vitality canned d...</td>\n",
       "    </tr>\n",
       "    <tr>\n",
       "      <th>1</th>\n",
       "      <td>2</td>\n",
       "      <td>B00813GRG4</td>\n",
       "      <td>A1D87F6ZCVE5NK</td>\n",
       "      <td>dll pa</td>\n",
       "      <td>0</td>\n",
       "      <td>0</td>\n",
       "      <td>1</td>\n",
       "      <td>1346976000</td>\n",
       "      <td>Not as Advertised</td>\n",
       "      <td>Product arrived labeled as Jumbo Salted Peanut...</td>\n",
       "    </tr>\n",
       "    <tr>\n",
       "      <th>2</th>\n",
       "      <td>3</td>\n",
       "      <td>B000LQOCH0</td>\n",
       "      <td>ABXLMWJIXXAIN</td>\n",
       "      <td>Natalia Corres \"Natalia Corres\"</td>\n",
       "      <td>1</td>\n",
       "      <td>1</td>\n",
       "      <td>4</td>\n",
       "      <td>1219017600</td>\n",
       "      <td>\"Delight\" says it all</td>\n",
       "      <td>This is a confection that has been around a fe...</td>\n",
       "    </tr>\n",
       "    <tr>\n",
       "      <th>3</th>\n",
       "      <td>4</td>\n",
       "      <td>B000UA0QIQ</td>\n",
       "      <td>A395BORC6FGVXV</td>\n",
       "      <td>Karl</td>\n",
       "      <td>3</td>\n",
       "      <td>3</td>\n",
       "      <td>2</td>\n",
       "      <td>1307923200</td>\n",
       "      <td>Cough Medicine</td>\n",
       "      <td>If you are looking for the secret ingredient i...</td>\n",
       "    </tr>\n",
       "    <tr>\n",
       "      <th>4</th>\n",
       "      <td>5</td>\n",
       "      <td>B006K2ZZ7K</td>\n",
       "      <td>A1UQRSCLF8GW1T</td>\n",
       "      <td>Michael D. Bigham \"M. Wassir\"</td>\n",
       "      <td>0</td>\n",
       "      <td>0</td>\n",
       "      <td>5</td>\n",
       "      <td>1350777600</td>\n",
       "      <td>Great taffy</td>\n",
       "      <td>Great taffy at a great price.  There was a wid...</td>\n",
       "    </tr>\n",
       "  </tbody>\n",
       "</table>\n",
       "</div>"
      ],
      "text/plain": [
       "   Id   ProductId          UserId                      ProfileName  \\\n",
       "0   1  B001E4KFG0  A3SGXH7AUHU8GW                       delmartian   \n",
       "1   2  B00813GRG4  A1D87F6ZCVE5NK                           dll pa   \n",
       "2   3  B000LQOCH0   ABXLMWJIXXAIN  Natalia Corres \"Natalia Corres\"   \n",
       "3   4  B000UA0QIQ  A395BORC6FGVXV                             Karl   \n",
       "4   5  B006K2ZZ7K  A1UQRSCLF8GW1T    Michael D. Bigham \"M. Wassir\"   \n",
       "\n",
       "   HelpfulnessNumerator  HelpfulnessDenominator  Score        Time  \\\n",
       "0                     1                       1      5  1303862400   \n",
       "1                     0                       0      1  1346976000   \n",
       "2                     1                       1      4  1219017600   \n",
       "3                     3                       3      2  1307923200   \n",
       "4                     0                       0      5  1350777600   \n",
       "\n",
       "                 Summary                                               Text  \n",
       "0  Good Quality Dog Food  I have bought several of the Vitality canned d...  \n",
       "1      Not as Advertised  Product arrived labeled as Jumbo Salted Peanut...  \n",
       "2  \"Delight\" says it all  This is a confection that has been around a fe...  \n",
       "3         Cough Medicine  If you are looking for the secret ingredient i...  \n",
       "4            Great taffy  Great taffy at a great price.  There was a wid...  "
      ]
     },
     "execution_count": 10,
     "metadata": {},
     "output_type": "execute_result"
    }
   ],
   "source": [
    "df.head()"
   ]
  },
  {
   "cell_type": "code",
   "execution_count": null,
   "metadata": {
    "colab": {
     "base_uri": "https://localhost:8080/",
     "height": 698
    },
    "executionInfo": {
     "elapsed": 743,
     "status": "ok",
     "timestamp": 1658499092884,
     "user": {
      "displayName": "pavitra m pavitra",
      "userId": "17187811436046255843"
     },
     "user_tz": -330
    },
    "id": "yff7AoO6JxjK",
    "outputId": "5bffba30-f3d3-49a2-cc0a-46501fba0309"
   },
   "outputs": [
    {
     "name": "stderr",
     "output_type": "stream",
     "text": [
      "/usr/local/lib/python3.7/dist-packages/seaborn/_decorators.py:43: FutureWarning: Pass the following variable as a keyword arg: x. From version 0.12, the only valid positional argument will be `data`, and passing other arguments without an explicit keyword will result in an error or misinterpretation.\n",
      "  FutureWarning\n"
     ]
    },
    {
     "data": {
      "text/plain": [
       "Text(0.5, 1.0, 'Score')"
      ]
     },
     "execution_count": 18,
     "metadata": {},
     "output_type": "execute_result"
    },
    {
     "data": {
      "image/png": "[encoded data removed]",
      "text/plain": [
       "<Figure size 720x720 with 1 Axes>"
      ]
     },
     "metadata": {},
     "output_type": "display_data"
    }
   ],
   "source": [
    "import seaborn as sns\n",
    "sns.countplot(df['Score'], palette=\"plasma\")\n",
    "fig = plt.gcf()\n",
    "fig.set_size_inches(10,10)\n",
    "plt.title('Score')"
   ]
  },
  {
   "cell_type": "code",
   "execution_count": null,
   "metadata": {
    "colab": {
     "base_uri": "https://localhost:8080/",
     "height": 224
    },
    "executionInfo": {
     "elapsed": 447,
     "status": "ok",
     "timestamp": 1658499096531,
     "user": {
      "displayName": "pavitra m pavitra",
      "userId": "17187811436046255843"
     },
     "user_tz": -330
    },
    "id": "Eh_CaMI8JxjL",
    "outputId": "8954502e-bfd6-4b69-d501-de7935466070"
   },
   "outputs": [
    {
     "name": "stdout",
     "output_type": "stream",
     "text": [
      "(568411, 2)\n"
     ]
    },
    {
     "data": {
      "text/html": [
       "\n",
       "  <div id=\"df-3b21e871-9963-428c-8400-998bc82ce564\">\n",
       "    <div class=\"colab-df-container\">\n",
       "      <div>\n",
       "<style scoped>\n",
       "    .dataframe tbody tr th:only-of-type {\n",
       "        vertical-align: middle;\n",
       "    }\n",
       "\n",
       "    .dataframe tbody tr th {\n",
       "        vertical-align: top;\n",
       "    }\n",
       "\n",
       "    .dataframe thead th {\n",
       "        text-align: right;\n",
       "    }\n",
       "</style>\n",
       "<table border=\"1\" class=\"dataframe\">\n",
       "  <thead>\n",
       "    <tr style=\"text-align: right;\">\n",
       "      <th></th>\n",
       "      <th>Score</th>\n",
       "      <th>Text</th>\n",
       "    </tr>\n",
       "  </thead>\n",
       "  <tbody>\n",
       "    <tr>\n",
       "      <th>0</th>\n",
       "      <td>5</td>\n",
       "      <td>I have bought several of the Vitality canned d...</td>\n",
       "    </tr>\n",
       "    <tr>\n",
       "      <th>1</th>\n",
       "      <td>1</td>\n",
       "      <td>Product arrived labeled as Jumbo Salted Peanut...</td>\n",
       "    </tr>\n",
       "    <tr>\n",
       "      <th>2</th>\n",
       "      <td>4</td>\n",
       "      <td>This is a confection that has been around a fe...</td>\n",
       "    </tr>\n",
       "    <tr>\n",
       "      <th>3</th>\n",
       "      <td>2</td>\n",
       "      <td>If you are looking for the secret ingredient i...</td>\n",
       "    </tr>\n",
       "    <tr>\n",
       "      <th>4</th>\n",
       "      <td>5</td>\n",
       "      <td>Great taffy at a great price.  There was a wid...</td>\n",
       "    </tr>\n",
       "  </tbody>\n",
       "</table>\n",
       "</div>\n",
       "      <button class=\"colab-df-convert\" onclick=\"convertToInteractive('df-3b21e871-9963-428c-8400-998bc82ce564')\"\n",
       "              title=\"Convert this dataframe to an interactive table.\"\n",
       "              style=\"display:none;\">\n",
       "        \n",
       "  <svg xmlns=\"http://www.w3.org/2000/svg\" height=\"24px\"viewBox=\"0 0 24 24\"\n",
       "       width=\"24px\">\n",
       "    <path d=\"M0 0h24v24H0V0z\" fill=\"none\"/>\n",
       "    <path d=\"M18.56 5.44l.94 2.06.94-2.06 2.06-.94-2.06-.94-.94-2.06-.94 2.06-2.06.94zm-11 1L8.5 8.5l.94-2.06 2.06-.94-2.06-.94L8.5 2.5l-.94 2.06-2.06.94zm10 10l.94 2.06.94-2.06 2.06-.94-2.06-.94-.94-2.06-.94 2.06-2.06.94z\"/><path d=\"M17.41 7.96l-1.37-1.37c-.4-.4-.92-.59-1.43-.59-.52 0-1.04.2-1.43.59L10.3 9.45l-7.72 7.72c-.78.78-.78 2.05 0 2.83L4 21.41c.39.39.9.59 1.41.59.51 0 1.02-.2 1.41-.59l7.78-7.78 2.81-2.81c.8-.78.8-2.07 0-2.86zM5.41 20L4 18.59l7.72-7.72 1.47 1.35L5.41 20z\"/>\n",
       "  </svg>\n",
       "      </button>\n",
       "      \n",
       "  <style>\n",
       "    .colab-df-container {\n",
       "      display:flex;\n",
       "      flex-wrap:wrap;\n",
       "      gap: 12px;\n",
       "    }\n",
       "\n",
       "    .colab-df-convert {\n",
       "      background-color: #E8F0FE;\n",
       "      border: none;\n",
       "      border-radius: 50%;\n",
       "      cursor: pointer;\n",
       "      display: none;\n",
       "      fill: #1967D2;\n",
       "      height: 32px;\n",
       "      padding: 0 0 0 0;\n",
       "      width: 32px;\n",
       "    }\n",
       "\n",
       "    .colab-df-convert:hover {\n",
       "      background-color: #E2EBFA;\n",
       "      box-shadow: 0px 1px 2px rgba(60, 64, 67, 0.3), 0px 1px 3px 1px rgba(60, 64, 67, 0.15);\n",
       "      fill: #174EA6;\n",
       "    }\n",
       "\n",
       "    [theme=dark] .colab-df-convert {\n",
       "      background-color: #3B4455;\n",
       "      fill: #D2E3FC;\n",
       "    }\n",
       "\n",
       "    [theme=dark] .colab-df-convert:hover {\n",
       "      background-color: #434B5C;\n",
       "      box-shadow: 0px 1px 3px 1px rgba(0, 0, 0, 0.15);\n",
       "      filter: drop-shadow(0px 1px 2px rgba(0, 0, 0, 0.3));\n",
       "      fill: #FFFFFF;\n",
       "    }\n",
       "  </style>\n",
       "\n",
       "      <script>\n",
       "        const buttonEl =\n",
       "          document.querySelector('#df-3b21e871-9963-428c-8400-998bc82ce564 button.colab-df-convert');\n",
       "        buttonEl.style.display =\n",
       "          google.colab.kernel.accessAllowed ? 'block' : 'none';\n",
       "\n",
       "        async function convertToInteractive(key) {\n",
       "          const element = document.querySelector('#df-3b21e871-9963-428c-8400-998bc82ce564');\n",
       "          const dataTable =\n",
       "            await google.colab.kernel.invokeFunction('convertToInteractive',\n",
       "                                                     [key], {});\n",
       "          if (!dataTable) return;\n",
       "\n",
       "          const docLinkHtml = 'Like what you see? Visit the ' +\n",
       "            '<a target=\"_blank\" href=https://colab.research.google.com/notebooks/data_table.ipynb>data table notebook</a>'\n",
       "            + ' to learn more about interactive tables.';\n",
       "          element.innerHTML = '';\n",
       "          dataTable['output_type'] = 'display_data';\n",
       "          await google.colab.output.renderOutput(dataTable, element);\n",
       "          const docLink = document.createElement('div');\n",
       "          docLink.innerHTML = docLinkHtml;\n",
       "          element.appendChild(docLink);\n",
       "        }\n",
       "      </script>\n",
       "    </div>\n",
       "  </div>\n",
       "  "
      ],
      "text/plain": [
       "   Score                                               Text\n",
       "0      5  I have bought several of the Vitality canned d...\n",
       "1      1  Product arrived labeled as Jumbo Salted Peanut...\n",
       "2      4  This is a confection that has been around a fe...\n",
       "3      2  If you are looking for the secret ingredient i...\n",
       "4      5  Great taffy at a great price.  There was a wid..."
      ]
     },
     "execution_count": 19,
     "metadata": {},
     "output_type": "execute_result"
    }
   ],
   "source": [
    "rating_df = pd.DataFrame(df, columns=['Score', 'Text'])\n",
    "\n",
    "print(rating_df.shape)\n",
    "rating_df.head()"
   ]
  },
  {
   "cell_type": "code",
   "execution_count": null,
   "metadata": {
    "colab": {
     "base_uri": "https://localhost:8080/"
    },
    "executionInfo": {
     "elapsed": 734,
     "status": "ok",
     "timestamp": 1658499106912,
     "user": {
      "displayName": "pavitra m pavitra",
      "userId": "17187811436046255843"
     },
     "user_tz": -330
    },
    "id": "8ov0f66EJxjM",
    "outputId": "4e034519-b91c-4149-810b-bd136ab79cad"
   },
   "outputs": [
    {
     "data": {
      "text/plain": [
       "5    363111\n",
       "4     80655\n",
       "1     52264\n",
       "3     42638\n",
       "2     29743\n",
       "Name: Score, dtype: int64"
      ]
     },
     "execution_count": 20,
     "metadata": {},
     "output_type": "execute_result"
    }
   ],
   "source": [
    "rating_df['Score'].astype('category').value_counts()"
   ]
  },
  {
   "cell_type": "code",
   "execution_count": null,
   "metadata": {
    "colab": {
     "base_uri": "https://localhost:8080/",
     "height": 206
    },
    "executionInfo": {
     "elapsed": 467,
     "status": "ok",
     "timestamp": 1658499110222,
     "user": {
      "displayName": "pavitra m pavitra",
      "userId": "17187811436046255843"
     },
     "user_tz": -330
    },
    "id": "tr88QRtQJxjN",
    "outputId": "0eabb961-1091-456f-bbd2-c4405a43d1b7"
   },
   "outputs": [
    {
     "data": {
      "text/html": [
       "\n",
       "  <div id=\"df-5dcfd017-12c7-4ca3-8fb9-1ac9bb4c312c\">\n",
       "    <div class=\"colab-df-container\">\n",
       "      <div>\n",
       "<style scoped>\n",
       "    .dataframe tbody tr th:only-of-type {\n",
       "        vertical-align: middle;\n",
       "    }\n",
       "\n",
       "    .dataframe tbody tr th {\n",
       "        vertical-align: top;\n",
       "    }\n",
       "\n",
       "    .dataframe thead th {\n",
       "        text-align: right;\n",
       "    }\n",
       "</style>\n",
       "<table border=\"1\" class=\"dataframe\">\n",
       "  <thead>\n",
       "    <tr style=\"text-align: right;\">\n",
       "      <th></th>\n",
       "      <th>1</th>\n",
       "      <th>2</th>\n",
       "      <th>3</th>\n",
       "      <th>4</th>\n",
       "      <th>5</th>\n",
       "    </tr>\n",
       "  </thead>\n",
       "  <tbody>\n",
       "    <tr>\n",
       "      <th>0</th>\n",
       "      <td>0</td>\n",
       "      <td>0</td>\n",
       "      <td>0</td>\n",
       "      <td>0</td>\n",
       "      <td>1</td>\n",
       "    </tr>\n",
       "    <tr>\n",
       "      <th>1</th>\n",
       "      <td>1</td>\n",
       "      <td>0</td>\n",
       "      <td>0</td>\n",
       "      <td>0</td>\n",
       "      <td>0</td>\n",
       "    </tr>\n",
       "    <tr>\n",
       "      <th>2</th>\n",
       "      <td>0</td>\n",
       "      <td>0</td>\n",
       "      <td>0</td>\n",
       "      <td>1</td>\n",
       "      <td>0</td>\n",
       "    </tr>\n",
       "    <tr>\n",
       "      <th>3</th>\n",
       "      <td>0</td>\n",
       "      <td>1</td>\n",
       "      <td>0</td>\n",
       "      <td>0</td>\n",
       "      <td>0</td>\n",
       "    </tr>\n",
       "    <tr>\n",
       "      <th>4</th>\n",
       "      <td>0</td>\n",
       "      <td>0</td>\n",
       "      <td>0</td>\n",
       "      <td>0</td>\n",
       "      <td>1</td>\n",
       "    </tr>\n",
       "  </tbody>\n",
       "</table>\n",
       "</div>\n",
       "      <button class=\"colab-df-convert\" onclick=\"convertToInteractive('df-5dcfd017-12c7-4ca3-8fb9-1ac9bb4c312c')\"\n",
       "              title=\"Convert this dataframe to an interactive table.\"\n",
       "              style=\"display:none;\">\n",
       "        \n",
       "  <svg xmlns=\"http://www.w3.org/2000/svg\" height=\"24px\"viewBox=\"0 0 24 24\"\n",
       "       width=\"24px\">\n",
       "    <path d=\"M0 0h24v24H0V0z\" fill=\"none\"/>\n",
       "    <path d=\"M18.56 5.44l.94 2.06.94-2.06 2.06-.94-2.06-.94-.94-2.06-.94 2.06-2.06.94zm-11 1L8.5 8.5l.94-2.06 2.06-.94-2.06-.94L8.5 2.5l-.94 2.06-2.06.94zm10 10l.94 2.06.94-2.06 2.06-.94-2.06-.94-.94-2.06-.94 2.06-2.06.94z\"/><path d=\"M17.41 7.96l-1.37-1.37c-.4-.4-.92-.59-1.43-.59-.52 0-1.04.2-1.43.59L10.3 9.45l-7.72 7.72c-.78.78-.78 2.05 0 2.83L4 21.41c.39.39.9.59 1.41.59.51 0 1.02-.2 1.41-.59l7.78-7.78 2.81-2.81c.8-.78.8-2.07 0-2.86zM5.41 20L4 18.59l7.72-7.72 1.47 1.35L5.41 20z\"/>\n",
       "  </svg>\n",
       "      </button>\n",
       "      \n",
       "  <style>\n",
       "    .colab-df-container {\n",
       "      display:flex;\n",
       "      flex-wrap:wrap;\n",
       "      gap: 12px;\n",
       "    }\n",
       "\n",
       "    .colab-df-convert {\n",
       "      background-color: #E8F0FE;\n",
       "      border: none;\n",
       "      border-radius: 50%;\n",
       "      cursor: pointer;\n",
       "      display: none;\n",
       "      fill: #1967D2;\n",
       "      height: 32px;\n",
       "      padding: 0 0 0 0;\n",
       "      width: 32px;\n",
       "    }\n",
       "\n",
       "    .colab-df-convert:hover {\n",
       "      background-color: #E2EBFA;\n",
       "      box-shadow: 0px 1px 2px rgba(60, 64, 67, 0.3), 0px 1px 3px 1px rgba(60, 64, 67, 0.15);\n",
       "      fill: #174EA6;\n",
       "    }\n",
       "\n",
       "    [theme=dark] .colab-df-convert {\n",
       "      background-color: #3B4455;\n",
       "      fill: #D2E3FC;\n",
       "    }\n",
       "\n",
       "    [theme=dark] .colab-df-convert:hover {\n",
       "      background-color: #434B5C;\n",
       "      box-shadow: 0px 1px 3px 1px rgba(0, 0, 0, 0.15);\n",
       "      filter: drop-shadow(0px 1px 2px rgba(0, 0, 0, 0.3));\n",
       "      fill: #FFFFFF;\n",
       "    }\n",
       "  </style>\n",
       "\n",
       "      <script>\n",
       "        const buttonEl =\n",
       "          document.querySelector('#df-5dcfd017-12c7-4ca3-8fb9-1ac9bb4c312c button.colab-df-convert');\n",
       "        buttonEl.style.display =\n",
       "          google.colab.kernel.accessAllowed ? 'block' : 'none';\n",
       "\n",
       "        async function convertToInteractive(key) {\n",
       "          const element = document.querySelector('#df-5dcfd017-12c7-4ca3-8fb9-1ac9bb4c312c');\n",
       "          const dataTable =\n",
       "            await google.colab.kernel.invokeFunction('convertToInteractive',\n",
       "                                                     [key], {});\n",
       "          if (!dataTable) return;\n",
       "\n",
       "          const docLinkHtml = 'Like what you see? Visit the ' +\n",
       "            '<a target=\"_blank\" href=https://colab.research.google.com/notebooks/data_table.ipynb>data table notebook</a>'\n",
       "            + ' to learn more about interactive tables.';\n",
       "          element.innerHTML = '';\n",
       "          dataTable['output_type'] = 'display_data';\n",
       "          await google.colab.output.renderOutput(dataTable, element);\n",
       "          const docLink = document.createElement('div');\n",
       "          docLink.innerHTML = docLinkHtml;\n",
       "          element.appendChild(docLink);\n",
       "        }\n",
       "      </script>\n",
       "    </div>\n",
       "  </div>\n",
       "  "
      ],
      "text/plain": [
       "   1  2  3  4  5\n",
       "0  0  0  0  0  1\n",
       "1  1  0  0  0  0\n",
       "2  0  0  0  1  0\n",
       "3  0  1  0  0  0\n",
       "4  0  0  0  0  1"
      ]
     },
     "execution_count": 21,
     "metadata": {},
     "output_type": "execute_result"
    }
   ],
   "source": [
    "dummies = pd.get_dummies(rating_df['Score'])\n",
    "dummies.head()"
   ]
  },
  {
   "cell_type": "markdown",
   "metadata": {
    "id": "VLrkxYGmJxjP"
   },
   "source": [
    "### Text Preprocessing"
   ]
  },
  {
   "cell_type": "code",
   "execution_count": null,
   "metadata": {
    "colab": {
     "base_uri": "https://localhost:8080/",
     "height": 206
    },
    "executionInfo": {
     "elapsed": 1253,
     "status": "ok",
     "timestamp": 1658499114149,
     "user": {
      "displayName": "pavitra m pavitra",
      "userId": "17187811436046255843"
     },
     "user_tz": -330
    },
    "id": "rFQYJF0_JxjP",
    "outputId": "653fdaee-42c1-446a-fed7-e230a3a6bf6d"
   },
   "outputs": [
    {
     "data": {
      "text/html": [
       "\n",
       "  <div id=\"df-3fb2bec4-70ac-4d67-bbc3-1f71ac8f2711\">\n",
       "    <div class=\"colab-df-container\">\n",
       "      <div>\n",
       "<style scoped>\n",
       "    .dataframe tbody tr th:only-of-type {\n",
       "        vertical-align: middle;\n",
       "    }\n",
       "\n",
       "    .dataframe tbody tr th {\n",
       "        vertical-align: top;\n",
       "    }\n",
       "\n",
       "    .dataframe thead th {\n",
       "        text-align: right;\n",
       "    }\n",
       "</style>\n",
       "<table border=\"1\" class=\"dataframe\">\n",
       "  <thead>\n",
       "    <tr style=\"text-align: right;\">\n",
       "      <th></th>\n",
       "      <th>Score</th>\n",
       "      <th>Text</th>\n",
       "    </tr>\n",
       "  </thead>\n",
       "  <tbody>\n",
       "    <tr>\n",
       "      <th>0</th>\n",
       "      <td>5</td>\n",
       "      <td>i have bought several of the vitality canned d...</td>\n",
       "    </tr>\n",
       "    <tr>\n",
       "      <th>1</th>\n",
       "      <td>1</td>\n",
       "      <td>product arrived labeled as jumbo salted peanut...</td>\n",
       "    </tr>\n",
       "    <tr>\n",
       "      <th>2</th>\n",
       "      <td>4</td>\n",
       "      <td>this is a confection that has been around a fe...</td>\n",
       "    </tr>\n",
       "    <tr>\n",
       "      <th>3</th>\n",
       "      <td>2</td>\n",
       "      <td>if you are looking for the secret ingredient i...</td>\n",
       "    </tr>\n",
       "    <tr>\n",
       "      <th>4</th>\n",
       "      <td>5</td>\n",
       "      <td>great taffy at a great price.  there was a wid...</td>\n",
       "    </tr>\n",
       "  </tbody>\n",
       "</table>\n",
       "</div>\n",
       "      <button class=\"colab-df-convert\" onclick=\"convertToInteractive('df-3fb2bec4-70ac-4d67-bbc3-1f71ac8f2711')\"\n",
       "              title=\"Convert this dataframe to an interactive table.\"\n",
       "              style=\"display:none;\">\n",
       "        \n",
       "  <svg xmlns=\"http://www.w3.org/2000/svg\" height=\"24px\"viewBox=\"0 0 24 24\"\n",
       "       width=\"24px\">\n",
       "    <path d=\"M0 0h24v24H0V0z\" fill=\"none\"/>\n",
       "    <path d=\"M18.56 5.44l.94 2.06.94-2.06 2.06-.94-2.06-.94-.94-2.06-.94 2.06-2.06.94zm-11 1L8.5 8.5l.94-2.06 2.06-.94-2.06-.94L8.5 2.5l-.94 2.06-2.06.94zm10 10l.94 2.06.94-2.06 2.06-.94-2.06-.94-.94-2.06-.94 2.06-2.06.94z\"/><path d=\"M17.41 7.96l-1.37-1.37c-.4-.4-.92-.59-1.43-.59-.52 0-1.04.2-1.43.59L10.3 9.45l-7.72 7.72c-.78.78-.78 2.05 0 2.83L4 21.41c.39.39.9.59 1.41.59.51 0 1.02-.2 1.41-.59l7.78-7.78 2.81-2.81c.8-.78.8-2.07 0-2.86zM5.41 20L4 18.59l7.72-7.72 1.47 1.35L5.41 20z\"/>\n",
       "  </svg>\n",
       "      </button>\n",
       "      \n",
       "  <style>\n",
       "    .colab-df-container {\n",
       "      display:flex;\n",
       "      flex-wrap:wrap;\n",
       "      gap: 12px;\n",
       "    }\n",
       "\n",
       "    .colab-df-convert {\n",
       "      background-color: #E8F0FE;\n",
       "      border: none;\n",
       "      border-radius: 50%;\n",
       "      cursor: pointer;\n",
       "      display: none;\n",
       "      fill: #1967D2;\n",
       "      height: 32px;\n",
       "      padding: 0 0 0 0;\n",
       "      width: 32px;\n",
       "    }\n",
       "\n",
       "    .colab-df-convert:hover {\n",
       "      background-color: #E2EBFA;\n",
       "      box-shadow: 0px 1px 2px rgba(60, 64, 67, 0.3), 0px 1px 3px 1px rgba(60, 64, 67, 0.15);\n",
       "      fill: #174EA6;\n",
       "    }\n",
       "\n",
       "    [theme=dark] .colab-df-convert {\n",
       "      background-color: #3B4455;\n",
       "      fill: #D2E3FC;\n",
       "    }\n",
       "\n",
       "    [theme=dark] .colab-df-convert:hover {\n",
       "      background-color: #434B5C;\n",
       "      box-shadow: 0px 1px 3px 1px rgba(0, 0, 0, 0.15);\n",
       "      filter: drop-shadow(0px 1px 2px rgba(0, 0, 0, 0.3));\n",
       "      fill: #FFFFFF;\n",
       "    }\n",
       "  </style>\n",
       "\n",
       "      <script>\n",
       "        const buttonEl =\n",
       "          document.querySelector('#df-3fb2bec4-70ac-4d67-bbc3-1f71ac8f2711 button.colab-df-convert');\n",
       "        buttonEl.style.display =\n",
       "          google.colab.kernel.accessAllowed ? 'block' : 'none';\n",
       "\n",
       "        async function convertToInteractive(key) {\n",
       "          const element = document.querySelector('#df-3fb2bec4-70ac-4d67-bbc3-1f71ac8f2711');\n",
       "          const dataTable =\n",
       "            await google.colab.kernel.invokeFunction('convertToInteractive',\n",
       "                                                     [key], {});\n",
       "          if (!dataTable) return;\n",
       "\n",
       "          const docLinkHtml = 'Like what you see? Visit the ' +\n",
       "            '<a target=\"_blank\" href=https://colab.research.google.com/notebooks/data_table.ipynb>data table notebook</a>'\n",
       "            + ' to learn more about interactive tables.';\n",
       "          element.innerHTML = '';\n",
       "          dataTable['output_type'] = 'display_data';\n",
       "          await google.colab.output.renderOutput(dataTable, element);\n",
       "          const docLink = document.createElement('div');\n",
       "          docLink.innerHTML = docLinkHtml;\n",
       "          element.appendChild(docLink);\n",
       "        }\n",
       "      </script>\n",
       "    </div>\n",
       "  </div>\n",
       "  "
      ],
      "text/plain": [
       "   Score                                               Text\n",
       "0      5  i have bought several of the vitality canned d...\n",
       "1      1  product arrived labeled as jumbo salted peanut...\n",
       "2      4  this is a confection that has been around a fe...\n",
       "3      2  if you are looking for the secret ingredient i...\n",
       "4      5  great taffy at a great price.  there was a wid..."
      ]
     },
     "execution_count": 22,
     "metadata": {},
     "output_type": "execute_result"
    }
   ],
   "source": [
    "## Lower Casing\n",
    "rating_df['Text'] = rating_df['Text'].str.lower()\n",
    "rating_df.head()"
   ]
  },
  {
   "cell_type": "code",
   "execution_count": null,
   "metadata": {
    "colab": {
     "base_uri": "https://localhost:8080/",
     "height": 206
    },
    "executionInfo": {
     "elapsed": 4763,
     "status": "ok",
     "timestamp": 1658499122026,
     "user": {
      "displayName": "pavitra m pavitra",
      "userId": "17187811436046255843"
     },
     "user_tz": -330
    },
    "id": "rKGAseMiJxjQ",
    "outputId": "ad3be1a1-6fea-4704-dae4-5383e06eff5a"
   },
   "outputs": [
    {
     "data": {
      "text/html": [
       "\n",
       "  <div id=\"df-2acc4ede-6fcf-4885-8945-8c8780414ad8\">\n",
       "    <div class=\"colab-df-container\">\n",
       "      <div>\n",
       "<style scoped>\n",
       "    .dataframe tbody tr th:only-of-type {\n",
       "        vertical-align: middle;\n",
       "    }\n",
       "\n",
       "    .dataframe tbody tr th {\n",
       "        vertical-align: top;\n",
       "    }\n",
       "\n",
       "    .dataframe thead th {\n",
       "        text-align: right;\n",
       "    }\n",
       "</style>\n",
       "<table border=\"1\" class=\"dataframe\">\n",
       "  <thead>\n",
       "    <tr style=\"text-align: right;\">\n",
       "      <th></th>\n",
       "      <th>Score</th>\n",
       "      <th>Text</th>\n",
       "    </tr>\n",
       "  </thead>\n",
       "  <tbody>\n",
       "    <tr>\n",
       "      <th>0</th>\n",
       "      <td>5</td>\n",
       "      <td>i have bought several of the vitality canned d...</td>\n",
       "    </tr>\n",
       "    <tr>\n",
       "      <th>1</th>\n",
       "      <td>1</td>\n",
       "      <td>product arrived labeled as jumbo salted peanut...</td>\n",
       "    </tr>\n",
       "    <tr>\n",
       "      <th>2</th>\n",
       "      <td>4</td>\n",
       "      <td>this is a confection that has been around a fe...</td>\n",
       "    </tr>\n",
       "    <tr>\n",
       "      <th>3</th>\n",
       "      <td>2</td>\n",
       "      <td>if you are looking for the secret ingredient i...</td>\n",
       "    </tr>\n",
       "    <tr>\n",
       "      <th>4</th>\n",
       "      <td>5</td>\n",
       "      <td>great taffy at a great price  there was a wide...</td>\n",
       "    </tr>\n",
       "  </tbody>\n",
       "</table>\n",
       "</div>\n",
       "      <button class=\"colab-df-convert\" onclick=\"convertToInteractive('df-2acc4ede-6fcf-4885-8945-8c8780414ad8')\"\n",
       "              title=\"Convert this dataframe to an interactive table.\"\n",
       "              style=\"display:none;\">\n",
       "        \n",
       "  <svg xmlns=\"http://www.w3.org/2000/svg\" height=\"24px\"viewBox=\"0 0 24 24\"\n",
       "       width=\"24px\">\n",
       "    <path d=\"M0 0h24v24H0V0z\" fill=\"none\"/>\n",
       "    <path d=\"M18.56 5.44l.94 2.06.94-2.06 2.06-.94-2.06-.94-.94-2.06-.94 2.06-2.06.94zm-11 1L8.5 8.5l.94-2.06 2.06-.94-2.06-.94L8.5 2.5l-.94 2.06-2.06.94zm10 10l.94 2.06.94-2.06 2.06-.94-2.06-.94-.94-2.06-.94 2.06-2.06.94z\"/><path d=\"M17.41 7.96l-1.37-1.37c-.4-.4-.92-.59-1.43-.59-.52 0-1.04.2-1.43.59L10.3 9.45l-7.72 7.72c-.78.78-.78 2.05 0 2.83L4 21.41c.39.39.9.59 1.41.59.51 0 1.02-.2 1.41-.59l7.78-7.78 2.81-2.81c.8-.78.8-2.07 0-2.86zM5.41 20L4 18.59l7.72-7.72 1.47 1.35L5.41 20z\"/>\n",
       "  </svg>\n",
       "      </button>\n",
       "      \n",
       "  <style>\n",
       "    .colab-df-container {\n",
       "      display:flex;\n",
       "      flex-wrap:wrap;\n",
       "      gap: 12px;\n",
       "    }\n",
       "\n",
       "    .colab-df-convert {\n",
       "      background-color: #E8F0FE;\n",
       "      border: none;\n",
       "      border-radius: 50%;\n",
       "      cursor: pointer;\n",
       "      display: none;\n",
       "      fill: #1967D2;\n",
       "      height: 32px;\n",
       "      padding: 0 0 0 0;\n",
       "      width: 32px;\n",
       "    }\n",
       "\n",
       "    .colab-df-convert:hover {\n",
       "      background-color: #E2EBFA;\n",
       "      box-shadow: 0px 1px 2px rgba(60, 64, 67, 0.3), 0px 1px 3px 1px rgba(60, 64, 67, 0.15);\n",
       "      fill: #174EA6;\n",
       "    }\n",
       "\n",
       "    [theme=dark] .colab-df-convert {\n",
       "      background-color: #3B4455;\n",
       "      fill: #D2E3FC;\n",
       "    }\n",
       "\n",
       "    [theme=dark] .colab-df-convert:hover {\n",
       "      background-color: #434B5C;\n",
       "      box-shadow: 0px 1px 3px 1px rgba(0, 0, 0, 0.15);\n",
       "      filter: drop-shadow(0px 1px 2px rgba(0, 0, 0, 0.3));\n",
       "      fill: #FFFFFF;\n",
       "    }\n",
       "  </style>\n",
       "\n",
       "      <script>\n",
       "        const buttonEl =\n",
       "          document.querySelector('#df-2acc4ede-6fcf-4885-8945-8c8780414ad8 button.colab-df-convert');\n",
       "        buttonEl.style.display =\n",
       "          google.colab.kernel.accessAllowed ? 'block' : 'none';\n",
       "\n",
       "        async function convertToInteractive(key) {\n",
       "          const element = document.querySelector('#df-2acc4ede-6fcf-4885-8945-8c8780414ad8');\n",
       "          const dataTable =\n",
       "            await google.colab.kernel.invokeFunction('convertToInteractive',\n",
       "                                                     [key], {});\n",
       "          if (!dataTable) return;\n",
       "\n",
       "          const docLinkHtml = 'Like what you see? Visit the ' +\n",
       "            '<a target=\"_blank\" href=https://colab.research.google.com/notebooks/data_table.ipynb>data table notebook</a>'\n",
       "            + ' to learn more about interactive tables.';\n",
       "          element.innerHTML = '';\n",
       "          dataTable['output_type'] = 'display_data';\n",
       "          await google.colab.output.renderOutput(dataTable, element);\n",
       "          const docLink = document.createElement('div');\n",
       "          docLink.innerHTML = docLinkHtml;\n",
       "          element.appendChild(docLink);\n",
       "        }\n",
       "      </script>\n",
       "    </div>\n",
       "  </div>\n",
       "  "
      ],
      "text/plain": [
       "   Score                                               Text\n",
       "0      5  i have bought several of the vitality canned d...\n",
       "1      1  product arrived labeled as jumbo salted peanut...\n",
       "2      4  this is a confection that has been around a fe...\n",
       "3      2  if you are looking for the secret ingredient i...\n",
       "4      5  great taffy at a great price  there was a wide..."
      ]
     },
     "execution_count": 23,
     "metadata": {},
     "output_type": "execute_result"
    }
   ],
   "source": [
    "import string\n",
    "PUNCT_TO_REMOVE = string.punctuation\n",
    "def remove_punctuation(text):\n",
    "    \"\"\"custom function to remove the punctuation\"\"\"\n",
    "    return text.translate(str.maketrans('', '', PUNCT_TO_REMOVE))\n",
    "\n",
    "rating_df['Text'] = rating_df['Text'].apply(lambda text: remove_punctuation(text))\n",
    "rating_df.head()"
   ]
  },
  {
   "cell_type": "code",
   "execution_count": null,
   "metadata": {
    "colab": {
     "base_uri": "https://localhost:8080/",
     "height": 241
    },
    "executionInfo": {
     "elapsed": 10093,
     "status": "ok",
     "timestamp": 1658499219697,
     "user": {
      "displayName": "pavitra m pavitra",
      "userId": "17187811436046255843"
     },
     "user_tz": -330
    },
    "id": "BoXMv2D3JxjR",
    "outputId": "db7da7e2-cea8-43ab-8ceb-b95d5a45a0b7"
   },
   "outputs": [
    {
     "name": "stderr",
     "output_type": "stream",
     "text": [
      "[nltk_data] Downloading package stopwords to /root/nltk_data...\n",
      "[nltk_data]   Unzipping corpora/stopwords.zip.\n"
     ]
    },
    {
     "data": {
      "text/html": [
       "\n",
       "  <div id=\"df-9cb32555-3ab9-4422-93e4-bd876750cad7\">\n",
       "    <div class=\"colab-df-container\">\n",
       "      <div>\n",
       "<style scoped>\n",
       "    .dataframe tbody tr th:only-of-type {\n",
       "        vertical-align: middle;\n",
       "    }\n",
       "\n",
       "    .dataframe tbody tr th {\n",
       "        vertical-align: top;\n",
       "    }\n",
       "\n",
       "    .dataframe thead th {\n",
       "        text-align: right;\n",
       "    }\n",
       "</style>\n",
       "<table border=\"1\" class=\"dataframe\">\n",
       "  <thead>\n",
       "    <tr style=\"text-align: right;\">\n",
       "      <th></th>\n",
       "      <th>Score</th>\n",
       "      <th>Text</th>\n",
       "    </tr>\n",
       "  </thead>\n",
       "  <tbody>\n",
       "    <tr>\n",
       "      <th>0</th>\n",
       "      <td>5</td>\n",
       "      <td>bought several vitality canned dog food produc...</td>\n",
       "    </tr>\n",
       "    <tr>\n",
       "      <th>1</th>\n",
       "      <td>1</td>\n",
       "      <td>product arrived labeled jumbo salted peanutsth...</td>\n",
       "    </tr>\n",
       "    <tr>\n",
       "      <th>2</th>\n",
       "      <td>4</td>\n",
       "      <td>confection around centuries light pillowy citr...</td>\n",
       "    </tr>\n",
       "    <tr>\n",
       "      <th>3</th>\n",
       "      <td>2</td>\n",
       "      <td>looking secret ingredient robitussin believe f...</td>\n",
       "    </tr>\n",
       "    <tr>\n",
       "      <th>4</th>\n",
       "      <td>5</td>\n",
       "      <td>great taffy great price wide assortment yummy ...</td>\n",
       "    </tr>\n",
       "  </tbody>\n",
       "</table>\n",
       "</div>\n",
       "      <button class=\"colab-df-convert\" onclick=\"convertToInteractive('df-9cb32555-3ab9-4422-93e4-bd876750cad7')\"\n",
       "              title=\"Convert this dataframe to an interactive table.\"\n",
       "              style=\"display:none;\">\n",
       "        \n",
       "  <svg xmlns=\"http://www.w3.org/2000/svg\" height=\"24px\"viewBox=\"0 0 24 24\"\n",
       "       width=\"24px\">\n",
       "    <path d=\"M0 0h24v24H0V0z\" fill=\"none\"/>\n",
       "    <path d=\"M18.56 5.44l.94 2.06.94-2.06 2.06-.94-2.06-.94-.94-2.06-.94 2.06-2.06.94zm-11 1L8.5 8.5l.94-2.06 2.06-.94-2.06-.94L8.5 2.5l-.94 2.06-2.06.94zm10 10l.94 2.06.94-2.06 2.06-.94-2.06-.94-.94-2.06-.94 2.06-2.06.94z\"/><path d=\"M17.41 7.96l-1.37-1.37c-.4-.4-.92-.59-1.43-.59-.52 0-1.04.2-1.43.59L10.3 9.45l-7.72 7.72c-.78.78-.78 2.05 0 2.83L4 21.41c.39.39.9.59 1.41.59.51 0 1.02-.2 1.41-.59l7.78-7.78 2.81-2.81c.8-.78.8-2.07 0-2.86zM5.41 20L4 18.59l7.72-7.72 1.47 1.35L5.41 20z\"/>\n",
       "  </svg>\n",
       "      </button>\n",
       "      \n",
       "  <style>\n",
       "    .colab-df-container {\n",
       "      display:flex;\n",
       "      flex-wrap:wrap;\n",
       "      gap: 12px;\n",
       "    }\n",
       "\n",
       "    .colab-df-convert {\n",
       "      background-color: #E8F0FE;\n",
       "      border: none;\n",
       "      border-radius: 50%;\n",
       "      cursor: pointer;\n",
       "      display: none;\n",
       "      fill: #1967D2;\n",
       "      height: 32px;\n",
       "      padding: 0 0 0 0;\n",
       "      width: 32px;\n",
       "    }\n",
       "\n",
       "    .colab-df-convert:hover {\n",
       "      background-color: #E2EBFA;\n",
       "      box-shadow: 0px 1px 2px rgba(60, 64, 67, 0.3), 0px 1px 3px 1px rgba(60, 64, 67, 0.15);\n",
       "      fill: #174EA6;\n",
       "    }\n",
       "\n",
       "    [theme=dark] .colab-df-convert {\n",
       "      background-color: #3B4455;\n",
       "      fill: #D2E3FC;\n",
       "    }\n",
       "\n",
       "    [theme=dark] .colab-df-convert:hover {\n",
       "      background-color: #434B5C;\n",
       "      box-shadow: 0px 1px 3px 1px rgba(0, 0, 0, 0.15);\n",
       "      filter: drop-shadow(0px 1px 2px rgba(0, 0, 0, 0.3));\n",
       "      fill: #FFFFFF;\n",
       "    }\n",
       "  </style>\n",
       "\n",
       "      <script>\n",
       "        const buttonEl =\n",
       "          document.querySelector('#df-9cb32555-3ab9-4422-93e4-bd876750cad7 button.colab-df-convert');\n",
       "        buttonEl.style.display =\n",
       "          google.colab.kernel.accessAllowed ? 'block' : 'none';\n",
       "\n",
       "        async function convertToInteractive(key) {\n",
       "          const element = document.querySelector('#df-9cb32555-3ab9-4422-93e4-bd876750cad7');\n",
       "          const dataTable =\n",
       "            await google.colab.kernel.invokeFunction('convertToInteractive',\n",
       "                                                     [key], {});\n",
       "          if (!dataTable) return;\n",
       "\n",
       "          const docLinkHtml = 'Like what you see? Visit the ' +\n",
       "            '<a target=\"_blank\" href=https://colab.research.google.com/notebooks/data_table.ipynb>data table notebook</a>'\n",
       "            + ' to learn more about interactive tables.';\n",
       "          element.innerHTML = '';\n",
       "          dataTable['output_type'] = 'display_data';\n",
       "          await google.colab.output.renderOutput(dataTable, element);\n",
       "          const docLink = document.createElement('div');\n",
       "          docLink.innerHTML = docLinkHtml;\n",
       "          element.appendChild(docLink);\n",
       "        }\n",
       "      </script>\n",
       "    </div>\n",
       "  </div>\n",
       "  "
      ],
      "text/plain": [
       "   Score                                               Text\n",
       "0      5  bought several vitality canned dog food produc...\n",
       "1      1  product arrived labeled jumbo salted peanutsth...\n",
       "2      4  confection around centuries light pillowy citr...\n",
       "3      2  looking secret ingredient robitussin believe f...\n",
       "4      5  great taffy great price wide assortment yummy ..."
      ]
     },
     "execution_count": 26,
     "metadata": {},
     "output_type": "execute_result"
    }
   ],
   "source": [
    "## Removal of Stopwords\n",
    "import nltk\n",
    "nltk.download('stopwords')\n",
    "from nltk.corpus import stopwords\n",
    "STOPWORDS = set(stopwords.words('english'))\n",
    "def remove_stopwords(text):\n",
    "    \"\"\"custom function to remove the stopwords\"\"\"\n",
    "    return \" \".join([word for word in str(text).split() if word not in STOPWORDS])\n",
    "\n",
    "rating_df['Text'] = rating_df['Text'].apply(lambda text: remove_stopwords(text))\n",
    "rating_df.head()"
   ]
  },
  {
   "cell_type": "code",
   "execution_count": null,
   "metadata": {
    "colab": {
     "base_uri": "https://localhost:8080/",
     "height": 206
    },
    "executionInfo": {
     "elapsed": 3379,
     "status": "ok",
     "timestamp": 1658499226496,
     "user": {
      "displayName": "pavitra m pavitra",
      "userId": "17187811436046255843"
     },
     "user_tz": -330
    },
    "id": "lwjdMLDTJxjR",
    "outputId": "b71bb6e2-c308-47b5-e443-28cc460527a5"
   },
   "outputs": [
    {
     "data": {
      "text/html": [
       "\n",
       "  <div id=\"df-fd4ae230-a39d-416e-b485-47fe48153ccb\">\n",
       "    <div class=\"colab-df-container\">\n",
       "      <div>\n",
       "<style scoped>\n",
       "    .dataframe tbody tr th:only-of-type {\n",
       "        vertical-align: middle;\n",
       "    }\n",
       "\n",
       "    .dataframe tbody tr th {\n",
       "        vertical-align: top;\n",
       "    }\n",
       "\n",
       "    .dataframe thead th {\n",
       "        text-align: right;\n",
       "    }\n",
       "</style>\n",
       "<table border=\"1\" class=\"dataframe\">\n",
       "  <thead>\n",
       "    <tr style=\"text-align: right;\">\n",
       "      <th></th>\n",
       "      <th>Score</th>\n",
       "      <th>Text</th>\n",
       "    </tr>\n",
       "  </thead>\n",
       "  <tbody>\n",
       "    <tr>\n",
       "      <th>0</th>\n",
       "      <td>5</td>\n",
       "      <td>bought several vitality canned dog food produc...</td>\n",
       "    </tr>\n",
       "    <tr>\n",
       "      <th>1</th>\n",
       "      <td>1</td>\n",
       "      <td>product arrived labeled jumbo salted peanutsth...</td>\n",
       "    </tr>\n",
       "    <tr>\n",
       "      <th>2</th>\n",
       "      <td>4</td>\n",
       "      <td>confection around centuries light pillowy citr...</td>\n",
       "    </tr>\n",
       "    <tr>\n",
       "      <th>3</th>\n",
       "      <td>2</td>\n",
       "      <td>looking secret ingredient robitussin believe f...</td>\n",
       "    </tr>\n",
       "    <tr>\n",
       "      <th>4</th>\n",
       "      <td>5</td>\n",
       "      <td>great taffy great price wide assortment yummy ...</td>\n",
       "    </tr>\n",
       "  </tbody>\n",
       "</table>\n",
       "</div>\n",
       "      <button class=\"colab-df-convert\" onclick=\"convertToInteractive('df-fd4ae230-a39d-416e-b485-47fe48153ccb')\"\n",
       "              title=\"Convert this dataframe to an interactive table.\"\n",
       "              style=\"display:none;\">\n",
       "        \n",
       "  <svg xmlns=\"http://www.w3.org/2000/svg\" height=\"24px\"viewBox=\"0 0 24 24\"\n",
       "       width=\"24px\">\n",
       "    <path d=\"M0 0h24v24H0V0z\" fill=\"none\"/>\n",
       "    <path d=\"M18.56 5.44l.94 2.06.94-2.06 2.06-.94-2.06-.94-.94-2.06-.94 2.06-2.06.94zm-11 1L8.5 8.5l.94-2.06 2.06-.94-2.06-.94L8.5 2.5l-.94 2.06-2.06.94zm10 10l.94 2.06.94-2.06 2.06-.94-2.06-.94-.94-2.06-.94 2.06-2.06.94z\"/><path d=\"M17.41 7.96l-1.37-1.37c-.4-.4-.92-.59-1.43-.59-.52 0-1.04.2-1.43.59L10.3 9.45l-7.72 7.72c-.78.78-.78 2.05 0 2.83L4 21.41c.39.39.9.59 1.41.59.51 0 1.02-.2 1.41-.59l7.78-7.78 2.81-2.81c.8-.78.8-2.07 0-2.86zM5.41 20L4 18.59l7.72-7.72 1.47 1.35L5.41 20z\"/>\n",
       "  </svg>\n",
       "      </button>\n",
       "      \n",
       "  <style>\n",
       "    .colab-df-container {\n",
       "      display:flex;\n",
       "      flex-wrap:wrap;\n",
       "      gap: 12px;\n",
       "    }\n",
       "\n",
       "    .colab-df-convert {\n",
       "      background-color: #E8F0FE;\n",
       "      border: none;\n",
       "      border-radius: 50%;\n",
       "      cursor: pointer;\n",
       "      display: none;\n",
       "      fill: #1967D2;\n",
       "      height: 32px;\n",
       "      padding: 0 0 0 0;\n",
       "      width: 32px;\n",
       "    }\n",
       "\n",
       "    .colab-df-convert:hover {\n",
       "      background-color: #E2EBFA;\n",
       "      box-shadow: 0px 1px 2px rgba(60, 64, 67, 0.3), 0px 1px 3px 1px rgba(60, 64, 67, 0.15);\n",
       "      fill: #174EA6;\n",
       "    }\n",
       "\n",
       "    [theme=dark] .colab-df-convert {\n",
       "      background-color: #3B4455;\n",
       "      fill: #D2E3FC;\n",
       "    }\n",
       "\n",
       "    [theme=dark] .colab-df-convert:hover {\n",
       "      background-color: #434B5C;\n",
       "      box-shadow: 0px 1px 3px 1px rgba(0, 0, 0, 0.15);\n",
       "      filter: drop-shadow(0px 1px 2px rgba(0, 0, 0, 0.3));\n",
       "      fill: #FFFFFF;\n",
       "    }\n",
       "  </style>\n",
       "\n",
       "      <script>\n",
       "        const buttonEl =\n",
       "          document.querySelector('#df-fd4ae230-a39d-416e-b485-47fe48153ccb button.colab-df-convert');\n",
       "        buttonEl.style.display =\n",
       "          google.colab.kernel.accessAllowed ? 'block' : 'none';\n",
       "\n",
       "        async function convertToInteractive(key) {\n",
       "          const element = document.querySelector('#df-fd4ae230-a39d-416e-b485-47fe48153ccb');\n",
       "          const dataTable =\n",
       "            await google.colab.kernel.invokeFunction('convertToInteractive',\n",
       "                                                     [key], {});\n",
       "          if (!dataTable) return;\n",
       "\n",
       "          const docLinkHtml = 'Like what you see? Visit the ' +\n",
       "            '<a target=\"_blank\" href=https://colab.research.google.com/notebooks/data_table.ipynb>data table notebook</a>'\n",
       "            + ' to learn more about interactive tables.';\n",
       "          element.innerHTML = '';\n",
       "          dataTable['output_type'] = 'display_data';\n",
       "          await google.colab.output.renderOutput(dataTable, element);\n",
       "          const docLink = document.createElement('div');\n",
       "          docLink.innerHTML = docLinkHtml;\n",
       "          element.appendChild(docLink);\n",
       "        }\n",
       "      </script>\n",
       "    </div>\n",
       "  </div>\n",
       "  "
      ],
      "text/plain": [
       "   Score                                               Text\n",
       "0      5  bought several vitality canned dog food produc...\n",
       "1      1  product arrived labeled jumbo salted peanutsth...\n",
       "2      4  confection around centuries light pillowy citr...\n",
       "3      2  looking secret ingredient robitussin believe f...\n",
       "4      5  great taffy great price wide assortment yummy ..."
      ]
     },
     "execution_count": 27,
     "metadata": {},
     "output_type": "execute_result"
    }
   ],
   "source": [
    "## Removal of urls\n",
    "def remove_urls(text):\n",
    "    url_pattern = re.compile(r'https?://\\S+|www\\.\\S+')\n",
    "    return url_pattern.sub(r'', text)\n",
    "\n",
    "rating_df['Text'] = rating_df['Text'].apply(lambda text: remove_urls(text))\n",
    "rating_df.head()"
   ]
  },
  {
   "cell_type": "code",
   "execution_count": null,
   "metadata": {
    "id": "I8L0IZggJxjS"
   },
   "outputs": [],
   "source": [
    "x_train, x_test, y_train, y_test = train_test_split(\n",
    "    rating_df['Text'], \n",
    "    dummies, \n",
    "    test_size=0.1, random_state=19\n",
    ")"
   ]
  },
  {
   "cell_type": "code",
   "execution_count": null,
   "metadata": {
    "id": "vHK9eCpuJxjT"
   },
   "outputs": [],
   "source": [
    "def build_matrix(word_index, path):\n",
    "    def get_coefs(word, *arr):\n",
    "        return word, np.asarray(arr, dtype='float32')\n",
    "\n",
    "    def load_embeddings(path):\n",
    "        with open(path) as f:\n",
    "            embedding_index = {}\n",
    "            \n",
    "            for line in tqdm(f):\n",
    "                word, arr = get_coefs(*line.strip().split(' '))    \n",
    "                if word in word_index:\n",
    "                    embedding_index[word] = arr\n",
    "            \n",
    "        return embedding_index\n",
    "\n",
    "    embedding_index = load_embeddings(path)\n",
    "    embedding_matrix = np.zeros((len(word_index) + 1, 300))\n",
    "    \n",
    "    for word, i in tqdm(word_index.items()):\n",
    "        try:\n",
    "            embedding_matrix[i] = embedding_index[word]\n",
    "        except KeyError:\n",
    "            pass\n",
    "    return embedding_matrix"
   ]
  },
  {
   "cell_type": "code",
   "execution_count": null,
   "metadata": {
    "id": "xBEeVxAuJxjT"
   },
   "outputs": [],
   "source": [
    "def build_model(embedding_matrix):\n",
    "    words = Input(shape=(None,))\n",
    "    x = Embedding(*embedding_matrix.shape, weights=[embedding_matrix], trainable=False)(words)\n",
    "    x = SpatialDropout1D(0.3)(x)\n",
    "    x = Bidirectional(LSTM(256, return_sequences=True))(x)\n",
    " \n",
    "    hidden = concatenate([\n",
    "        GlobalMaxPooling1D()(x),\n",
    "        GlobalAveragePooling1D()(x),\n",
    "    ])\n",
    "    hidden = Dense(512, activation='relu')(hidden)\n",
    "    \n",
    "    result = Dense(5, activation='softmax')(hidden)\n",
    "    \n",
    "    model = Model(inputs=words, outputs=result)\n",
    "    model.compile(\n",
    "        loss='categorical_crossentropy', \n",
    "        optimizer='adam',\n",
    "        metrics=['accuracy']\n",
    "    )\n",
    "\n",
    "    return model"
   ]
  },
  {
   "cell_type": "code",
   "execution_count": null,
   "metadata": {
    "colab": {
     "base_uri": "https://localhost:8080/"
    },
    "executionInfo": {
     "elapsed": 32232,
     "status": "ok",
     "timestamp": 1658499274253,
     "user": {
      "displayName": "pavitra m pavitra",
      "userId": "17187811436046255843"
     },
     "user_tz": -330
    },
    "id": "FbyHfptiJxjU",
    "outputId": "8379eaec-1b54-46df-822f-76334426e116"
   },
   "outputs": [
    {
     "name": "stdout",
     "output_type": "stream",
     "text": [
      "CPU times: user 31.1 s, sys: 280 ms, total: 31.4 s\n",
      "Wall time: 31.6 s\n"
     ]
    }
   ],
   "source": [
    "%%time\n",
    "CHARS_TO_REMOVE = '!\"#$%&()*+,-./:;<=>?@[\\\\]^_`{|}~\\t\\n“”’\\'∞θ÷α•à−β∅³π‘₹´°£€\\×™√²—'\n",
    "tokenizer = text.Tokenizer(filters=CHARS_TO_REMOVE)\n",
    "tokenizer.fit_on_texts(list(x_train) + list(x_test))"
   ]
  },
  {
   "cell_type": "code",
   "execution_count": null,
   "metadata": {
    "id": "davc3unAJxjW"
   },
   "outputs": [],
   "source": [
    "def build_model():\n",
    "  model = build_model(embedding_matrix)\n",
    "  model.summary()\n",
    "\n",
    "checkpoint = ModelCheckpoint(\n",
    "    'model.h5', \n",
    "    monitor='val_acc', \n",
    "    verbose=1, \n",
    "    save_best_only=True, \n",
    "    save_weights_only=False,\n",
    "    mode='auto'\n",
    ")\n",
    "def fit():\n",
    " history = model.fit(\n",
    "    x_train,\n",
    "    y_train,\n",
    "    batch_size=512,\n",
    "    callbacks=[checkpoint],\n",
    "    epochs=10,\n",
    "    validation_split=0.1\n",
    ")"
   ]
  },
  {
   "cell_type": "markdown",
   "metadata": {
    "id": "CeL27xdqoC9K"
   },
   "source": [
    "![image.png](data:image/png;base64,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)"
   ]
  },
  {
   "cell_type": "markdown",
   "metadata": {
    "id": "0Qyb9a8GoElP"
   },
   "source": [
    "![image.png](data:image/png;base64,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)"
   ]
  }
 ],
 "metadata": {
  "colab": {
   "collapsed_sections": [],
   "name": "amazon-reviews-sentiment-analysis.ipynb",
   "provenance": []
  },
  "kernelspec": {
   "display_name": "Python 3 (ipykernel)",
   "language": "python",
   "name": "python3"
  },
  "language_info": {
   "codemirror_mode": {
    "name": "ipython",
    "version": 3
   },
   "file_extension": ".py",
   "mimetype": "text/x-python",
   "name": "python",
   "nbconvert_exporter": "python",
   "pygments_lexer": "ipython3",
   "version": "3.9.12"
  }
 },
 "nbformat": 4,
 "nbformat_minor": 1
}
